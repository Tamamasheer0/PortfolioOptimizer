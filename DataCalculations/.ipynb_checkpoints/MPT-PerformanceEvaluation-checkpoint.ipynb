{
 "cells": [
  {
   "cell_type": "code",
   "execution_count": 1,
   "metadata": {},
   "outputs": [],
   "source": [
    "%matplotlib inline\n",
    "\n",
    "import matplotlib.pyplot as plt\n",
    "import datetime as dt\n",
    "import pandas as pd\n",
    "import numpy as np\n",
    "\n",
    "from apidata import (\n",
    "    closing_prices,\n",
    "    optimize_portfolio,\n",
    "    backtest_portfolio,\n",
    "    evaluate_portfolio,\n",
    ")"
   ]
  },
  {
   "cell_type": "code",
   "execution_count": 2,
   "metadata": {},
   "outputs": [],
   "source": [
    "# 1: <Good Performance> Select Stocks For Inclusion in Portfolio\n",
    "#selected_stocks = [\"AMZN\",\"JPM\",\"FCX\",\"HAL\",\"F\"]\n",
    "\n",
    "selected_stocks = \"GOOG,JPM,HAL\".split(\",\")"
   ]
  },
  {
   "cell_type": "code",
   "execution_count": 3,
   "metadata": {},
   "outputs": [
    {
     "name": "stdout",
     "output_type": "stream",
     "text": [
      "[0] Retrieving Stock Data: AMZN\n",
      "[1] Retrieving Stock Data: JPM\n",
      "[2] Retrieving Stock Data: FCX\n",
      "[3] Retrieving Stock Data: HAL\n",
      "[4] Retrieving Stock Data: F\n",
      "\n",
      "Optimizing Portfolio Weights >> Simulations: x 5000\n",
      "\n",
      "Optimized Portfolio Weights:\n",
      "AMZN        0.6451\n",
      "F           0.0577\n",
      "FCX         0.0495\n",
      "HAL         0.0168\n",
      "JPM         0.2309\n",
      "Return      0.2205\n",
      "Sharpe      0.5457\n",
      "Variance    0.2245\n",
      "Name: 936, dtype: float64\n"
     ]
    }
   ],
   "source": [
    "# 2: Optimize Portfolio Around List of Provided Stocks\n",
    "portfolio = optimize_portfolio(selected_stocks)"
   ]
  },
  {
   "cell_type": "code",
   "execution_count": 4,
   "metadata": {},
   "outputs": [
    {
     "name": "stdout",
     "output_type": "stream",
     "text": [
      "\n",
      "Ticker: AMZN \tPortfolio Weight: 0.6451\n",
      "                AMZN\n",
      "Date                \n",
      "2014-01-03 -0.002485\n",
      "2014-01-06 -0.004589\n",
      "2014-01-07  0.007171\n",
      "2014-01-08  0.006274\n",
      "2014-01-09 -0.001462\n",
      "\n",
      "Ticker: F \tPortfolio Weight: 0.0577\n",
      "                   F\n",
      "Date                \n",
      "2014-01-03  0.000261\n",
      "2014-01-06  0.000260\n",
      "2014-01-07 -0.000745\n",
      "2014-01-08  0.000597\n",
      "2014-01-09  0.001103\n",
      "\n",
      "Ticker: FCX \tPortfolio Weight: 0.0495\n",
      "                 FCX\n",
      "Date                \n",
      "2014-01-03 -0.000409\n",
      "2014-01-06 -0.000400\n",
      "2014-01-07 -0.000484\n",
      "2014-01-08 -0.000625\n",
      "2014-01-09 -0.000675\n",
      "\n",
      "Ticker: HAL \tPortfolio Weight: 0.0168\n",
      "                 HAL\n",
      "Date                \n",
      "2014-01-03  0.000040\n",
      "2014-01-06  0.000064\n",
      "2014-01-07 -0.000040\n",
      "2014-01-08 -0.000236\n",
      "2014-01-09  0.000037\n",
      "\n",
      "Ticker: JPM \tPortfolio Weight: 0.2309\n",
      "                 JPM\n",
      "Date                \n",
      "2014-01-03  0.001778\n",
      "2014-01-06  0.001334\n",
      "2014-01-07 -0.002677\n",
      "2014-01-08  0.002167\n",
      "2014-01-09 -0.000432\n",
      "\n",
      "[Historic] Portfolio Performance:\n",
      "                 AMZN         F       FCX       HAL       JPM      RTNp\n",
      "Date                                                                  \n",
      "2014-01-03 -0.002485  0.000261 -0.000409  0.000040  0.001778 -0.000815\n",
      "2014-01-06 -0.004589  0.000260 -0.000400  0.000064  0.001334 -0.003330\n",
      "2014-01-07  0.007171 -0.000745 -0.000484 -0.000040 -0.002677  0.003225\n",
      "2014-01-08  0.006274  0.000597 -0.000625 -0.000236  0.002167  0.008178\n",
      "2014-01-09 -0.001462  0.001103 -0.000675  0.000037 -0.000432 -0.001428\n"
     ]
    }
   ],
   "source": [
    "# 3: Back-Test Performance of Optimized Portfolio Using Historical Data\n",
    "performance = backtest_portfolio(portfolio)"
   ]
  },
  {
   "cell_type": "code",
   "execution_count": 5,
   "metadata": {},
   "outputs": [
    {
     "name": "stdout",
     "output_type": "stream",
     "text": [
      "                AMZN         F       FCX       HAL       JPM      RTNp  \\\n",
      "Date                                                                     \n",
      "2014-01-03 -0.002485  0.000261 -0.000409  0.000040  0.001778 -0.000815   \n",
      "2014-01-06 -0.004589  0.000260 -0.000400  0.000064  0.001334 -0.003330   \n",
      "2014-01-07  0.007171 -0.000745 -0.000484 -0.000040 -0.002677  0.003225   \n",
      "2014-01-08  0.006274  0.000597 -0.000625 -0.000236  0.002167  0.008178   \n",
      "2014-01-09 -0.001462  0.001103 -0.000675  0.000037 -0.000432 -0.001428   \n",
      "\n",
      "                RTNm    Excess       Compare  \n",
      "Date                                          \n",
      "2014-01-03  0.005026 -0.005841  Underperform  \n",
      "2014-01-06 -0.021439  0.018109    Outperform  \n",
      "2014-01-07  0.005109 -0.001884  Underperform  \n",
      "2014-01-08 -0.005897  0.014075    Outperform  \n",
      "2014-01-09 -0.005932  0.004504    Outperform  \n"
     ]
    }
   ],
   "source": [
    "# 4: Evaluate Portfolio Historic Performance Against Benchmark\n",
    "pfolio_eval = evaluate_portfolio(performance)"
   ]
  },
  {
   "cell_type": "code",
   "execution_count": 6,
   "metadata": {},
   "outputs": [
    {
     "data": {
      "text/html": [
       "<div>\n",
       "<style scoped>\n",
       "    .dataframe tbody tr th:only-of-type {\n",
       "        vertical-align: middle;\n",
       "    }\n",
       "\n",
       "    .dataframe tbody tr th {\n",
       "        vertical-align: top;\n",
       "    }\n",
       "\n",
       "    .dataframe thead th {\n",
       "        text-align: right;\n",
       "    }\n",
       "</style>\n",
       "<table border=\"1\" class=\"dataframe\">\n",
       "  <thead>\n",
       "    <tr style=\"text-align: right;\">\n",
       "      <th></th>\n",
       "      <th>AMZN</th>\n",
       "      <th>F</th>\n",
       "      <th>FCX</th>\n",
       "      <th>HAL</th>\n",
       "      <th>JPM</th>\n",
       "      <th>RTNp</th>\n",
       "      <th>RTNm</th>\n",
       "      <th>Excess</th>\n",
       "      <th>Compare</th>\n",
       "    </tr>\n",
       "    <tr>\n",
       "      <th>Date</th>\n",
       "      <th></th>\n",
       "      <th></th>\n",
       "      <th></th>\n",
       "      <th></th>\n",
       "      <th></th>\n",
       "      <th></th>\n",
       "      <th></th>\n",
       "      <th></th>\n",
       "      <th></th>\n",
       "    </tr>\n",
       "  </thead>\n",
       "  <tbody>\n",
       "    <tr>\n",
       "      <th>2014-01-03</th>\n",
       "      <td>-0.002485</td>\n",
       "      <td>0.000261</td>\n",
       "      <td>-0.000409</td>\n",
       "      <td>0.000040</td>\n",
       "      <td>0.001778</td>\n",
       "      <td>-0.000815</td>\n",
       "      <td>0.005026</td>\n",
       "      <td>-0.005841</td>\n",
       "      <td>Underperform</td>\n",
       "    </tr>\n",
       "    <tr>\n",
       "      <th>2014-01-06</th>\n",
       "      <td>-0.004589</td>\n",
       "      <td>0.000260</td>\n",
       "      <td>-0.000400</td>\n",
       "      <td>0.000064</td>\n",
       "      <td>0.001334</td>\n",
       "      <td>-0.003330</td>\n",
       "      <td>-0.021439</td>\n",
       "      <td>0.018109</td>\n",
       "      <td>Outperform</td>\n",
       "    </tr>\n",
       "    <tr>\n",
       "      <th>2014-01-07</th>\n",
       "      <td>0.007171</td>\n",
       "      <td>-0.000745</td>\n",
       "      <td>-0.000484</td>\n",
       "      <td>-0.000040</td>\n",
       "      <td>-0.002677</td>\n",
       "      <td>0.003225</td>\n",
       "      <td>0.005109</td>\n",
       "      <td>-0.001884</td>\n",
       "      <td>Underperform</td>\n",
       "    </tr>\n",
       "    <tr>\n",
       "      <th>2014-01-08</th>\n",
       "      <td>0.006274</td>\n",
       "      <td>0.000597</td>\n",
       "      <td>-0.000625</td>\n",
       "      <td>-0.000236</td>\n",
       "      <td>0.002167</td>\n",
       "      <td>0.008178</td>\n",
       "      <td>-0.005897</td>\n",
       "      <td>0.014075</td>\n",
       "      <td>Outperform</td>\n",
       "    </tr>\n",
       "    <tr>\n",
       "      <th>2014-01-09</th>\n",
       "      <td>-0.001462</td>\n",
       "      <td>0.001103</td>\n",
       "      <td>-0.000675</td>\n",
       "      <td>0.000037</td>\n",
       "      <td>-0.000432</td>\n",
       "      <td>-0.001428</td>\n",
       "      <td>-0.005932</td>\n",
       "      <td>0.004504</td>\n",
       "      <td>Outperform</td>\n",
       "    </tr>\n",
       "  </tbody>\n",
       "</table>\n",
       "</div>"
      ],
      "text/plain": [
       "                AMZN         F       FCX       HAL       JPM      RTNp  \\\n",
       "Date                                                                     \n",
       "2014-01-03 -0.002485  0.000261 -0.000409  0.000040  0.001778 -0.000815   \n",
       "2014-01-06 -0.004589  0.000260 -0.000400  0.000064  0.001334 -0.003330   \n",
       "2014-01-07  0.007171 -0.000745 -0.000484 -0.000040 -0.002677  0.003225   \n",
       "2014-01-08  0.006274  0.000597 -0.000625 -0.000236  0.002167  0.008178   \n",
       "2014-01-09 -0.001462  0.001103 -0.000675  0.000037 -0.000432 -0.001428   \n",
       "\n",
       "                RTNm    Excess       Compare  \n",
       "Date                                          \n",
       "2014-01-03  0.005026 -0.005841  Underperform  \n",
       "2014-01-06 -0.021439  0.018109    Outperform  \n",
       "2014-01-07  0.005109 -0.001884  Underperform  \n",
       "2014-01-08 -0.005897  0.014075    Outperform  \n",
       "2014-01-09 -0.005932  0.004504    Outperform  "
      ]
     },
     "execution_count": 6,
     "metadata": {},
     "output_type": "execute_result"
    }
   ],
   "source": [
    "# [View] Portfolio Evaluation Summary\n",
    "pfolio_eval.head()"
   ]
  },
  {
   "cell_type": "code",
   "execution_count": 7,
   "metadata": {
    "scrolled": true
   },
   "outputs": [
    {
     "data": {
      "text/plain": [
       "AMZN       1063\n",
       "F          1063\n",
       "FCX        1063\n",
       "HAL        1063\n",
       "JPM        1063\n",
       "RTNp       1063\n",
       "RTNm       1063\n",
       "Excess     1063\n",
       "Compare    1063\n",
       "dtype: int64"
      ]
     },
     "execution_count": 7,
     "metadata": {},
     "output_type": "execute_result"
    }
   ],
   "source": [
    "# [View] Evaluation Sample Size\n",
    "pfolio_eval.count()"
   ]
  },
  {
   "cell_type": "code",
   "execution_count": 8,
   "metadata": {
    "scrolled": true
   },
   "outputs": [
    {
     "data": {
      "text/plain": [
       "Outperform      0.5155\n",
       "Underperform    0.4845\n",
       "Name: Compare, dtype: float64"
      ]
     },
     "execution_count": 8,
     "metadata": {},
     "output_type": "execute_result"
    }
   ],
   "source": [
    "# [View] Portfolio/Market Performance Comparison Summary\n",
    "round(pfolio_eval[\"Compare\"].value_counts()/pfolio_eval[\"Compare\"].count(), 4)"
   ]
  },
  {
   "cell_type": "code",
   "execution_count": 9,
   "metadata": {},
   "outputs": [
    {
     "data": {
      "text/plain": [
       "Date\n",
       "2014-01-03   -0.000815\n",
       "2014-01-06   -0.003330\n",
       "2014-01-07    0.003225\n",
       "2014-01-08    0.008178\n",
       "2014-01-09   -0.001428\n",
       "2014-01-10   -0.004704\n",
       "2014-01-13   -0.014985\n",
       "2014-01-14    0.012875\n",
       "2014-01-15    0.005971\n",
       "2014-01-16   -0.001469\n",
       "Name: RTNp, dtype: float64"
      ]
     },
     "execution_count": 9,
     "metadata": {},
     "output_type": "execute_result"
    }
   ],
   "source": [
    "pfolio_eval[\"RTNp\"].head(10)"
   ]
  },
  {
   "cell_type": "code",
   "execution_count": 10,
   "metadata": {},
   "outputs": [],
   "source": [
    "xaxis_dates = pfolio_eval.reset_index()[\"Date\"]\n",
    "xmin = xaxis_dates.iloc[0]\n",
    "xmax = xaxis_dates.iloc[-1]"
   ]
  },
  {
   "cell_type": "code",
   "execution_count": 11,
   "metadata": {},
   "outputs": [
    {
     "data": {
      "text/plain": [
       "<matplotlib.collections.LineCollection at 0x2eb0d309c88>"
      ]
     },
     "execution_count": 11,
     "metadata": {},
     "output_type": "execute_result"
    },
    {
     "data": {
      "image/png": "[encoded data removed]",
      "text/plain": [
       "<Figure size 432x288 with 1 Axes>"
      ]
     },
     "metadata": {
      "needs_background": "light"
     },
     "output_type": "display_data"
    }
   ],
   "source": [
    "# [View] Volatility of Portfolio Returns\n",
    "pfolio_eval[\"RTNp\"].plot(alpha=.75)\n",
    "plt.title(\"[Optimized] Volatility of Returns\")\n",
    "plt.xlabel(\"Dates\")\n",
    "plt.ylabel(\"Daily Return\")\n",
    "plt.ylim(-.08, .08)\n",
    "plt.grid(axis=\"y\", linestyle=\"dashed\")\n",
    "plt.hlines(.02, xmin, xmax, linestyle=\"dashed\", colors=\"red\")\n",
    "plt.hlines(-.02, xmin, xmax, linestyle=\"dashed\", colors=\"red\")"
   ]
  },
  {
   "cell_type": "code",
   "execution_count": 12,
   "metadata": {},
   "outputs": [
    {
     "data": {
      "text/plain": [
       "<matplotlib.collections.LineCollection at 0x2eb0e011da0>"
      ]
     },
     "execution_count": 12,
     "metadata": {},
     "output_type": "execute_result"
    },
    {
     "data": {
      "image/png": "[encoded data removed]",
      "text/plain": [
       "<Figure size 432x288 with 1 Axes>"
      ]
     },
     "metadata": {
      "needs_background": "light"
     },
     "output_type": "display_data"
    }
   ],
   "source": [
    "# [View] Volatility of Market Returns\n",
    "pfolio_eval[\"RTNm\"].plot(alpha=.75)\n",
    "plt.title(\"[S&P500] Volatility of Returns\")\n",
    "plt.xlabel(\"Date\")\n",
    "plt.ylabel(\"Daily Returns\")\n",
    "plt.ylim(-.08, .08)\n",
    "plt.grid(axis=\"y\", linestyle=\"dashed\")\n",
    "plt.hlines(.02, xmin, xmax, linestyle=\"dashed\", colors=\"red\")\n",
    "plt.hlines(-.02, xmin, xmax, linestyle=\"dashed\", colors=\"red\")"
   ]
  },
  {
   "cell_type": "code",
   "execution_count": 13,
   "metadata": {},
   "outputs": [],
   "source": [
    "# Calculate Portfolio Beta -- Show The Correlation of Returns\n",
    "# Explanation as to Why On an Absolute Basis Portfolio Underpeforms Only Slightly\n"
   ]
  },
  {
   "cell_type": "code",
   "execution_count": 14,
   "metadata": {},
   "outputs": [],
   "source": [
    "rtn_df = pfolio_eval[\"RTNp\"].apply(lambda x: x + 1).reset_index()"
   ]
  },
  {
   "cell_type": "code",
   "execution_count": 15,
   "metadata": {},
   "outputs": [
    {
     "data": {
      "text/html": [
       "<div>\n",
       "<style scoped>\n",
       "    .dataframe tbody tr th:only-of-type {\n",
       "        vertical-align: middle;\n",
       "    }\n",
       "\n",
       "    .dataframe tbody tr th {\n",
       "        vertical-align: top;\n",
       "    }\n",
       "\n",
       "    .dataframe thead th {\n",
       "        text-align: right;\n",
       "    }\n",
       "</style>\n",
       "<table border=\"1\" class=\"dataframe\">\n",
       "  <thead>\n",
       "    <tr style=\"text-align: right;\">\n",
       "      <th></th>\n",
       "      <th>Date</th>\n",
       "      <th>RTNp</th>\n",
       "    </tr>\n",
       "  </thead>\n",
       "  <tbody>\n",
       "    <tr>\n",
       "      <th>0</th>\n",
       "      <td>2014-01-03</td>\n",
       "      <td>0.999185</td>\n",
       "    </tr>\n",
       "    <tr>\n",
       "      <th>1</th>\n",
       "      <td>2014-01-06</td>\n",
       "      <td>0.996670</td>\n",
       "    </tr>\n",
       "    <tr>\n",
       "      <th>2</th>\n",
       "      <td>2014-01-07</td>\n",
       "      <td>1.003225</td>\n",
       "    </tr>\n",
       "    <tr>\n",
       "      <th>3</th>\n",
       "      <td>2014-01-08</td>\n",
       "      <td>1.008178</td>\n",
       "    </tr>\n",
       "    <tr>\n",
       "      <th>4</th>\n",
       "      <td>2014-01-09</td>\n",
       "      <td>0.998572</td>\n",
       "    </tr>\n",
       "  </tbody>\n",
       "</table>\n",
       "</div>"
      ],
      "text/plain": [
       "        Date      RTNp\n",
       "0 2014-01-03  0.999185\n",
       "1 2014-01-06  0.996670\n",
       "2 2014-01-07  1.003225\n",
       "3 2014-01-08  1.008178\n",
       "4 2014-01-09  0.998572"
      ]
     },
     "execution_count": 15,
     "metadata": {},
     "output_type": "execute_result"
    }
   ],
   "source": [
    "rtn_df.head()"
   ]
  },
  {
   "cell_type": "code",
   "execution_count": 16,
   "metadata": {},
   "outputs": [
    {
     "data": {
      "text/plain": [
       "datetime.date(2014, 1, 3)"
      ]
     },
     "execution_count": 16,
     "metadata": {},
     "output_type": "execute_result"
    }
   ],
   "source": [
    "rtn_df.iloc[0][\"Date\"].date()"
   ]
  },
  {
   "cell_type": "code",
   "execution_count": 17,
   "metadata": {},
   "outputs": [],
   "source": [
    "mkt_val = [(row[1][0].date(), row[1][1]) for row in rtn_df.iterrows()]"
   ]
  },
  {
   "cell_type": "code",
   "execution_count": 18,
   "metadata": {},
   "outputs": [
    {
     "data": {
      "text/plain": [
       "[(datetime.date(2014, 1, 3), 0.9991850551216387),\n",
       " (datetime.date(2014, 1, 6), 0.9966695166966356),\n",
       " (datetime.date(2014, 1, 7), 1.0032249379165579),\n",
       " (datetime.date(2014, 1, 8), 1.0081775951472631),\n",
       " (datetime.date(2014, 1, 9), 0.998571878932168),\n",
       " (datetime.date(2014, 1, 10), 0.9952955641615795),\n",
       " (datetime.date(2014, 1, 13), 0.9850147904696235),\n",
       " (datetime.date(2014, 1, 14), 1.0128750526561334),\n",
       " (datetime.date(2014, 1, 15), 1.0059713163678985),\n",
       " (datetime.date(2014, 1, 16), 0.9985306248449336)]"
      ]
     },
     "execution_count": 18,
     "metadata": {},
     "output_type": "execute_result"
    }
   ],
   "source": [
    "mkt_val[:10]"
   ]
  },
  {
   "cell_type": "code",
   "execution_count": 19,
   "metadata": {},
   "outputs": [
    {
     "data": {
      "text/html": [
       "<div>\n",
       "<style scoped>\n",
       "    .dataframe tbody tr th:only-of-type {\n",
       "        vertical-align: middle;\n",
       "    }\n",
       "\n",
       "    .dataframe tbody tr th {\n",
       "        vertical-align: top;\n",
       "    }\n",
       "\n",
       "    .dataframe thead th {\n",
       "        text-align: right;\n",
       "    }\n",
       "</style>\n",
       "<table border=\"1\" class=\"dataframe\">\n",
       "  <thead>\n",
       "    <tr style=\"text-align: right;\">\n",
       "      <th></th>\n",
       "      <th>AMZN</th>\n",
       "      <th>F</th>\n",
       "      <th>FCX</th>\n",
       "      <th>HAL</th>\n",
       "      <th>JPM</th>\n",
       "      <th>RTNp</th>\n",
       "      <th>RTNm</th>\n",
       "      <th>Excess</th>\n",
       "    </tr>\n",
       "  </thead>\n",
       "  <tbody>\n",
       "    <tr>\n",
       "      <th>count</th>\n",
       "      <td>1063.000000</td>\n",
       "      <td>1063.000000</td>\n",
       "      <td>1063.000000</td>\n",
       "      <td>1.063000e+03</td>\n",
       "      <td>1063.000000</td>\n",
       "      <td>1063.000000</td>\n",
       "      <td>1063.000000</td>\n",
       "      <td>1063.000000</td>\n",
       "    </tr>\n",
       "    <tr>\n",
       "      <th>mean</th>\n",
       "      <td>0.000804</td>\n",
       "      <td>-0.000019</td>\n",
       "      <td>-0.000037</td>\n",
       "      <td>-8.168977e-07</td>\n",
       "      <td>0.000134</td>\n",
       "      <td>0.000881</td>\n",
       "      <td>0.000294</td>\n",
       "      <td>0.000587</td>\n",
       "    </tr>\n",
       "    <tr>\n",
       "      <th>std</th>\n",
       "      <td>0.011969</td>\n",
       "      <td>0.000826</td>\n",
       "      <td>0.001796</td>\n",
       "      <td>3.287983e-04</td>\n",
       "      <td>0.003033</td>\n",
       "      <td>0.014201</td>\n",
       "      <td>0.017077</td>\n",
       "      <td>0.019805</td>\n",
       "    </tr>\n",
       "    <tr>\n",
       "      <th>min</th>\n",
       "      <td>-0.075156</td>\n",
       "      <td>-0.004915</td>\n",
       "      <td>-0.011252</td>\n",
       "      <td>-1.930914e-03</td>\n",
       "      <td>-0.016627</td>\n",
       "      <td>-0.079065</td>\n",
       "      <td>-0.076003</td>\n",
       "      <td>-0.089635</td>\n",
       "    </tr>\n",
       "    <tr>\n",
       "      <th>25%</th>\n",
       "      <td>-0.004461</td>\n",
       "      <td>-0.000419</td>\n",
       "      <td>-0.000860</td>\n",
       "      <td>-1.747543e-04</td>\n",
       "      <td>-0.001274</td>\n",
       "      <td>-0.005443</td>\n",
       "      <td>-0.008794</td>\n",
       "      <td>-0.010300</td>\n",
       "    </tr>\n",
       "    <tr>\n",
       "      <th>50%</th>\n",
       "      <td>0.000715</td>\n",
       "      <td>0.000000</td>\n",
       "      <td>-0.000024</td>\n",
       "      <td>-3.819484e-06</td>\n",
       "      <td>0.000123</td>\n",
       "      <td>0.000997</td>\n",
       "      <td>0.000000</td>\n",
       "      <td>0.000592</td>\n",
       "    </tr>\n",
       "    <tr>\n",
       "      <th>75%</th>\n",
       "      <td>0.006663</td>\n",
       "      <td>0.000465</td>\n",
       "      <td>0.000749</td>\n",
       "      <td>1.928282e-04</td>\n",
       "      <td>0.001725</td>\n",
       "      <td>0.008003</td>\n",
       "      <td>0.009350</td>\n",
       "      <td>0.011341</td>\n",
       "    </tr>\n",
       "    <tr>\n",
       "      <th>max</th>\n",
       "      <td>0.085268</td>\n",
       "      <td>0.002858</td>\n",
       "      <td>0.012475</td>\n",
       "      <td>1.766893e-03</td>\n",
       "      <td>0.018472</td>\n",
       "      <td>0.086325</td>\n",
       "      <td>0.082238</td>\n",
       "      <td>0.092169</td>\n",
       "    </tr>\n",
       "  </tbody>\n",
       "</table>\n",
       "</div>"
      ],
      "text/plain": [
       "              AMZN            F          FCX           HAL          JPM  \\\n",
       "count  1063.000000  1063.000000  1063.000000  1.063000e+03  1063.000000   \n",
       "mean      0.000804    -0.000019    -0.000037 -8.168977e-07     0.000134   \n",
       "std       0.011969     0.000826     0.001796  3.287983e-04     0.003033   \n",
       "min      -0.075156    -0.004915    -0.011252 -1.930914e-03    -0.016627   \n",
       "25%      -0.004461    -0.000419    -0.000860 -1.747543e-04    -0.001274   \n",
       "50%       0.000715     0.000000    -0.000024 -3.819484e-06     0.000123   \n",
       "75%       0.006663     0.000465     0.000749  1.928282e-04     0.001725   \n",
       "max       0.085268     0.002858     0.012475  1.766893e-03     0.018472   \n",
       "\n",
       "              RTNp         RTNm       Excess  \n",
       "count  1063.000000  1063.000000  1063.000000  \n",
       "mean      0.000881     0.000294     0.000587  \n",
       "std       0.014201     0.017077     0.019805  \n",
       "min      -0.079065    -0.076003    -0.089635  \n",
       "25%      -0.005443    -0.008794    -0.010300  \n",
       "50%       0.000997     0.000000     0.000592  \n",
       "75%       0.008003     0.009350     0.011341  \n",
       "max       0.086325     0.082238     0.092169  "
      ]
     },
     "execution_count": 19,
     "metadata": {},
     "output_type": "execute_result"
    }
   ],
   "source": [
    "pfolio_eval.describe()"
   ]
  },
  {
   "cell_type": "code",
   "execution_count": null,
   "metadata": {},
   "outputs": [],
   "source": []
  }
 ],
 "metadata": {
  "kernelspec": {
   "display_name": "Python 3",
   "language": "python",
   "name": "python3"
  },
  "language_info": {
   "codemirror_mode": {
    "name": "ipython",
    "version": 3
   },
   "file_extension": ".py",
   "mimetype": "text/x-python",
   "name": "python",
   "nbconvert_exporter": "python",
   "pygments_lexer": "ipython3",
   "version": "3.6.7"
  }
 },
 "nbformat": 4,
 "nbformat_minor": 2
}
