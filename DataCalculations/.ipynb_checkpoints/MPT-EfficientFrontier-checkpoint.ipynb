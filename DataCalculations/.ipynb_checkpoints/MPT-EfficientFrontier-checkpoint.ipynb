{
 "cells": [
  {
   "cell_type": "code",
   "execution_count": null,
   "metadata": {},
   "outputs": [],
   "source": [
    "# Import Library Dependencies\n",
    "import matplotlib.pyplot as plt\n",
    "import datetime as dt\n",
    "import pandas as pd\n",
    "import numpy as np\n",
    "\n",
    "# Import Custom API Functions\n",
    "from apidata import quandl_stock_data\n",
    "\n",
    "%matplotlib notebook"
   ]
  },
  {
   "cell_type": "code",
   "execution_count": null,
   "metadata": {},
   "outputs": [],
   "source": [
    "pfolio_assets = [\n",
    "    \"AMZN\",\n",
    "    \"PFE\",\n",
    "    \"AMD\",\n",
    "    \"HAL\",\n",
    "    \"PG\",\n",
    "    \"COF\",    \n",
    "]\n"
   ]
  },
  {
   "cell_type": "code",
   "execution_count": null,
   "metadata": {},
   "outputs": [],
   "source": [
    "# Portfolio Stock Selection\n",
    "pfolio_assets = [\n",
    "    \"NLY\", \n",
    "    \"T\", \n",
    "    \"AMZN\", \n",
    "    \"PG\", \n",
    "    \"BAC\", \n",
    "    \"PFE\", \n",
    "    \"FCX\", \n",
    "    \"MSFT\", \n",
    "    \"GM\", \n",
    "    \"QCOM\",\n",
    "]\n",
    "\n",
    "print(f'Number of Portfolio Assets: {len(pfolio_assets)}')"
   ]
  },
  {
   "cell_type": "code",
   "execution_count": null,
   "metadata": {
    "scrolled": true
   },
   "outputs": [],
   "source": [
    "# Initializing DataFrame\n",
    "portfolio = quandl_stock_data(pfolio_assets[0], verbose=True) \\\n",
    "            .rename(columns={\"Close\": pfolio_assets[0].upper()})[pfolio_assets[0].upper()] \\\n",
    "            .reset_index()"
   ]
  },
  {
   "cell_type": "code",
   "execution_count": null,
   "metadata": {},
   "outputs": [],
   "source": [
    "# Generate Portfolio DataFrame:\n",
    "# [1] Query Stock Return Data - Quandl API Call\n",
    "# [2] Merge Stock Returns into Portfolio DataFrame \n",
    "\n",
    "for i, stock in enumerate(pfolio_assets[1:]):\n",
    "    print(f\"<Quandl API Call> [{i+1}] Stock Symbol: {stock}\")\n",
    "    add_stock = quandl_stock_data(stock) \\\n",
    "                .rename(columns={\"Close\": stock})[stock] \\\n",
    "                .reset_index()\n",
    "    \n",
    "    portfolio = pd.merge(portfolio, add_stock, on=\"Date\", how=\"inner\")\n",
    "    \n",
    "print (f\"\\nAsset Returns: Merged // Portfolio DataFrame: <Complete>\")"
   ]
  },
  {
   "cell_type": "code",
   "execution_count": null,
   "metadata": {},
   "outputs": [],
   "source": [
    "# Set DataFrame Index (Date)\n",
    "portfolio.set_index(\"Date\", inplace=True)\n",
    "portfolio.head(15)"
   ]
  },
  {
   "cell_type": "code",
   "execution_count": null,
   "metadata": {},
   "outputs": [],
   "source": [
    "# View DataFrame -- Data Completeness\n",
    "portfolio.count()"
   ]
  },
  {
   "cell_type": "code",
   "execution_count": null,
   "metadata": {},
   "outputs": [],
   "source": [
    "# [Visualize] Plot Data Frame -- Closing Prices\n",
    "visual_plot = (portfolio/portfolio.iloc[0] * 100).plot(figsize=(10,7))\n",
    "plt.grid(axis=\"y\", linestyle=\"dashed\")"
   ]
  },
  {
   "cell_type": "code",
   "execution_count": null,
   "metadata": {},
   "outputs": [],
   "source": [
    "# Convert Stock Price Data into Log Returns -- Removed Offset Row\n",
    "log_returns = np.log(portfolio / portfolio.shift(1)).iloc[1:]\n",
    "log_returns[:15]"
   ]
  },
  {
   "cell_type": "code",
   "execution_count": null,
   "metadata": {},
   "outputs": [],
   "source": [
    "# Calculate Average Annual Log Returns \n",
    "log_returns.mean()*250"
   ]
  },
  {
   "cell_type": "code",
   "execution_count": null,
   "metadata": {},
   "outputs": [],
   "source": [
    "# Portfolio Asset Covariance Matrix\n",
    "log_returns.cov() * 250"
   ]
  },
  {
   "cell_type": "code",
   "execution_count": null,
   "metadata": {},
   "outputs": [],
   "source": [
    "# Portfolio Asset Correlation Matrix\n",
    "log_returns.corr()"
   ]
  },
  {
   "cell_type": "code",
   "execution_count": null,
   "metadata": {
    "scrolled": false
   },
   "outputs": [],
   "source": [
    "# Count Number of Assets in Portfolio\n",
    "num_assets = (len(pfolio_assets) )\n",
    "num_assets"
   ]
  },
  {
   "cell_type": "code",
   "execution_count": null,
   "metadata": {},
   "outputs": [],
   "source": [
    "# Simulate 10k Random Portfolios\n",
    "pfolio_sims = []\n",
    "pfolio = {}\n",
    "\n",
    "mkt_return = .098\n",
    "sim_trials = 5000\n",
    "for i in range(sim_trials):\n",
    "    weights = np.random.random(num_assets)\n",
    "    weights /= np.sum(weights)\n",
    "    \n",
    "    WTSp = zip(pfolio_assets, weights)\n",
    "    RTNp = np.sum(weights * log_returns.mean()) * 250\n",
    "    VOLp = np.sqrt(np.dot(weights.T, np.dot(log_returns.cov() * 250, weights)))\n",
    "    \n",
    "    pfolio = {a:round(wt, 4) for a,wt in WTSp}\n",
    "    pfolio[\"RTN\"] = round(RTNp, 4)\n",
    "    pfolio[\"VOL\"] = round(VOLp, 4)\n",
    "    pfolio[\"Sharpe\"] = round((RTNp - mkt_return)/VOLp, 4)\n",
    "    pfolio_sims.append(pfolio)\n",
    "    \n",
    "    print(\"\\n\",pfolio, \"\\n\")\n",
    "\n",
    "print(\">>> Data Points Generated -- Simulation Complete <<<\")"
   ]
  },
  {
   "cell_type": "code",
   "execution_count": null,
   "metadata": {},
   "outputs": [],
   "source": [
    "# Convert to DataFrame\n",
    "portfolios = pd.DataFrame(pfolio_sims)\n",
    "portfolios.head()"
   ]
  },
  {
   "cell_type": "code",
   "execution_count": null,
   "metadata": {},
   "outputs": [],
   "source": [
    "# View Simulation Summary Statistics\n",
    "portfolios[[\"Sharpe\", \"RTN\", \"VOL\"]].describe()"
   ]
  },
  {
   "cell_type": "code",
   "execution_count": null,
   "metadata": {},
   "outputs": [],
   "source": [
    "# Sort Simulated Portfolios: (Sharpe Ratio/Descending)\n",
    "ranked_portfolios = portfolios.sort_values(\"Sharpe\", ascending=False) \\\n",
    "                    .set_index([\"Sharpe\", \"RTN\", \"VOL\"])"
   ]
  },
  {
   "cell_type": "code",
   "execution_count": null,
   "metadata": {
    "scrolled": true
   },
   "outputs": [],
   "source": [
    "# View Best Portfolios (Most Efficient)\n",
    "ranked_portfolios.head(10)"
   ]
  },
  {
   "cell_type": "code",
   "execution_count": null,
   "metadata": {},
   "outputs": [],
   "source": [
    "# View Worst Portfolios (Least Efficient)\n",
    "ranked_portfolios.tail(10)"
   ]
  },
  {
   "cell_type": "code",
   "execution_count": null,
   "metadata": {},
   "outputs": [],
   "source": [
    "# Create DataFrames (Best Portfolios, Worst Portfolios, Remaining)\n",
    "req_headers = [\"Sharpe\", \"RTN\", \"VOL\"]\n",
    "efficient_pfolios = ranked_portfolios.reset_index()[req_headers].iloc[:50]\n",
    "remaining_pfolios = ranked_portfolios.reset_index()[req_headers].iloc[950:]\n",
    "all_pfolios = ranked_portfolios.reset_index()[req_headers]"
   ]
  },
  {
   "cell_type": "code",
   "execution_count": null,
   "metadata": {},
   "outputs": [],
   "source": [
    "efficient_pfolios.plot(\n",
    "    x=\"VOL\",\n",
    "    y=\"RTN\",\n",
    "    kind=\"scatter\",\n",
    "    color=\"red\",\n",
    "    figsize=(10,6)\n",
    ")\n",
    "plt.grid(True)\n",
    "plt.title(\"Efficient Portfolio Composition\")\n",
    "plt.xlabel(\"Expected Portfolio Volatility\")\n",
    "plt.ylabel(\"Expected Portfolio Return\")\n",
    "plt.xlim(.05,.25)\n",
    "plt.ylim(-.1, .25)\n"
   ]
  },
  {
   "cell_type": "code",
   "execution_count": null,
   "metadata": {},
   "outputs": [],
   "source": [
    "remaining_pfolios.plot(\n",
    "    x=\"VOL\",\n",
    "    y=\"RTN\",\n",
    "    kind=\"scatter\",\n",
    "    color=\"blue\",\n",
    "    alpha=.5,\n",
    "    figsize=(10,6)\n",
    ")\n",
    "plt.grid(True)\n",
    "plt.title(\"Ineffient Portfolio Composition\")\n",
    "plt.xlabel(\"Expected Portfolio Volatility\")\n",
    "plt.ylabel(\"Expected Portfolio Return\")\n",
    "plt.xlim(.05,.25)\n",
    "plt.ylim(-.1, .25)"
   ]
  },
  {
   "cell_type": "code",
   "execution_count": null,
   "metadata": {},
   "outputs": [],
   "source": [
    "all_pfolios.plot(\n",
    "    x=\"VOL\",\n",
    "    y=\"RTN\",\n",
    "    kind=\"scatter\",\n",
    "    color=\"green\",\n",
    "    alpha=.5,\n",
    "    figsize=(10,6)\n",
    ")\n",
    "plt.grid(True)\n",
    "plt.title(\"Ineffient Portfolio Composition\")\n",
    "plt.xlabel(\"Expected Portfolio Volatility\")\n",
    "plt.ylabel(\"Expected Portfolio Return\")\n",
    "plt.xlim(.05,.25)\n",
    "plt.ylim(-.1, .2)"
   ]
  },
  {
   "cell_type": "code",
   "execution_count": null,
   "metadata": {},
   "outputs": [],
   "source": []
  },
  {
   "cell_type": "code",
   "execution_count": null,
   "metadata": {},
   "outputs": [],
   "source": []
  }
 ],
 "metadata": {
  "kernelspec": {
   "display_name": "Python 3",
   "language": "python",
   "name": "python3"
  },
  "language_info": {
   "codemirror_mode": {
    "name": "ipython",
    "version": 3
   },
   "file_extension": ".py",
   "mimetype": "text/x-python",
   "name": "python",
   "nbconvert_exporter": "python",
   "pygments_lexer": "ipython3",
   "version": "3.6.7"
  }
 },
 "nbformat": 4,
 "nbformat_minor": 2
}
