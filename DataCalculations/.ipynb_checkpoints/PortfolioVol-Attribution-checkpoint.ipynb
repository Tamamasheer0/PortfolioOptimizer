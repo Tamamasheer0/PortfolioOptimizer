{
 "cells": [
  {
   "cell_type": "code",
   "execution_count": null,
   "metadata": {},
   "outputs": [],
   "source": [
    "%matplotlib inline\n",
    "\n",
    "import matplotlib.pyplot as plt\n",
    "import datetime as dt\n",
    "import pandas as pd\n",
    "import numpy as np\n",
    "\n",
    "from apidata import (\n",
    "        closing_prices,\n",
    "        optimize_portfolio,\n",
    "        backtest_portfolio\n",
    ")"
   ]
  },
  {
   "cell_type": "code",
   "execution_count": null,
   "metadata": {},
   "outputs": [],
   "source": [
    "# Assets: Google, JPMorgan Chase, Walmart\n",
    "assets = [\"GOOG\", \"JPM\"]"
   ]
  },
  {
   "cell_type": "code",
   "execution_count": null,
   "metadata": {},
   "outputs": [],
   "source": [
    "# Optimize Portfolio Weights\n",
    "portfolio = optimize_portfolio(assets)"
   ]
  },
  {
   "cell_type": "code",
   "execution_count": null,
   "metadata": {
    "scrolled": true
   },
   "outputs": [],
   "source": [
    "# Create DataFrame of Historic Returns\n",
    "performance = backtest_portfolio(portfolio)"
   ]
  },
  {
   "cell_type": "code",
   "execution_count": null,
   "metadata": {},
   "outputs": [],
   "source": [
    "# Creating Inversely Correlated Asset\n",
    "performance[\"GOOG-INV\"] = performance[\"GOOG\"].apply(lambda x: x * -1)"
   ]
  },
  {
   "cell_type": "code",
   "execution_count": null,
   "metadata": {},
   "outputs": [],
   "source": [
    "performance.head()"
   ]
  },
  {
   "cell_type": "code",
   "execution_count": null,
   "metadata": {},
   "outputs": [],
   "source": [
    "# [Plot] Google - Volatility of Returns (Individual)\n",
    "\n",
    "performance[\"GOOG\"].plot(color=\"blue\", alpha=0.4\n",
    "                        )\n",
    "plt.grid(axis=\"y\", linestyle=\"dashed\")\n",
    "plt.title(\"Google Price Volatility\")\n",
    "plt.xlabel(\"Dates\")\n",
    "plt.ylabel(\"%Return\")\n"
   ]
  },
  {
   "cell_type": "code",
   "execution_count": null,
   "metadata": {},
   "outputs": [],
   "source": [
    "# [Plot] JP Morgan Volatility of Returns (Individual)\n",
    "\n",
    "performance[\"GOOG-INV\"].plot(color=\"magenta\", alpha=0.4)\n",
    "plt.grid(axis=\"y\", linestyle=\"dashed\")\n",
    "plt.title(\"JP Morgan Price Volatility\")\n",
    "plt.xlabel(\"Dates\")\n",
    "plt.ylabel(\"% Return\")"
   ]
  },
  {
   "cell_type": "code",
   "execution_count": null,
   "metadata": {},
   "outputs": [],
   "source": [
    "# [Plot] Overlay - Google & JPM Volatility of Returns (Equal Weighting)\n",
    "\n",
    "performance[\"GOOG\"].plot(color=\"magenta\", alpha=0.5, figsize=(12,10))\n",
    "performance[\"GOOG-INV\"].plot(color=\"cyan\", alpha=0.65)\n",
    "#performance[\"RTNp\"].plot(color=\"green\", alpha=0.4)\n",
    "plt.grid(axis=\"y\", linestyle=\"dashed\")\n",
    "plt.title(\"Volatitility Attribution Overlay\")\n",
    "plt.xlabel(\"Dates\")\n",
    "plt.ylabel(\"% Return\")\n",
    "plt.ylim(-.05, .05)\n",
    "plt.show()"
   ]
  },
  {
   "cell_type": "code",
   "execution_count": null,
   "metadata": {},
   "outputs": [],
   "source": [
    "# [Plot] Portfolio - Weighted Portfolio Volatility (Optimized)\n",
    "# (Shows that portfolio volatility is the net weighted average of the assets comprising it)\n",
    "\n",
    "performance[\"RTNp\"].plot(color=\"green\", alpha=0.75)\n",
    "plt.grid(axis=\"y\", linestyle=\"dashed\")\n",
    "plt.title(\"Portfolio Volatility\")\n",
    "plt.xlabel(\"Dates\")\n",
    "plt.ylabel(\"% Return\")"
   ]
  },
  {
   "cell_type": "code",
   "execution_count": null,
   "metadata": {},
   "outputs": [],
   "source": []
  },
  {
   "cell_type": "code",
   "execution_count": null,
   "metadata": {},
   "outputs": [],
   "source": []
  }
 ],
 "metadata": {
  "kernelspec": {
   "display_name": "Python 3",
   "language": "python",
   "name": "python3"
  },
  "language_info": {
   "codemirror_mode": {
    "name": "ipython",
    "version": 3
   },
   "file_extension": ".py",
   "mimetype": "text/x-python",
   "name": "python",
   "nbconvert_exporter": "python",
   "pygments_lexer": "ipython3",
   "version": "3.6.7"
  }
 },
 "nbformat": 4,
 "nbformat_minor": 2
}
