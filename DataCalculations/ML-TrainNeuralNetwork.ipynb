{
 "cells": [
  {
   "cell_type": "code",
   "execution_count": 1,
   "metadata": {},
   "outputs": [],
   "source": [
    "from sklearn.preprocessing import StandardScaler\n",
    "from sklearn.model_selection import train_test_split\n",
    "from tensorflow.keras.utils import to_categorical\n",
    "from tensorflow.keras.models import Sequential\n",
    "from tensorflow.keras.layers import Dense\n",
    "\n",
    "import datetime as dt\n",
    "import numpy as np\n",
    "import pandas as pd"
   ]
  },
  {
   "cell_type": "code",
   "execution_count": 2,
   "metadata": {},
   "outputs": [
    {
     "data": {
      "text/html": [
       "<div>\n",
       "<style scoped>\n",
       "    .dataframe tbody tr th:only-of-type {\n",
       "        vertical-align: middle;\n",
       "    }\n",
       "\n",
       "    .dataframe tbody tr th {\n",
       "        vertical-align: top;\n",
       "    }\n",
       "\n",
       "    .dataframe thead th {\n",
       "        text-align: right;\n",
       "    }\n",
       "</style>\n",
       "<table border=\"1\" class=\"dataframe\">\n",
       "  <thead>\n",
       "    <tr style=\"text-align: right;\">\n",
       "      <th></th>\n",
       "      <th>BETAp</th>\n",
       "      <th>CTp</th>\n",
       "      <th>PvSP</th>\n",
       "      <th>RTNp</th>\n",
       "      <th>SHRp</th>\n",
       "      <th>SP500</th>\n",
       "      <th>VARp</th>\n",
       "    </tr>\n",
       "  </thead>\n",
       "  <tbody>\n",
       "    <tr>\n",
       "      <th>0</th>\n",
       "      <td>NaN</td>\n",
       "      <td>5</td>\n",
       "      <td>False</td>\n",
       "      <td>0.1631</td>\n",
       "      <td>0.4112</td>\n",
       "      <td>0.3857</td>\n",
       "      <td>0.1583</td>\n",
       "    </tr>\n",
       "    <tr>\n",
       "      <th>1</th>\n",
       "      <td>NaN</td>\n",
       "      <td>5</td>\n",
       "      <td>False</td>\n",
       "      <td>0.0789</td>\n",
       "      <td>-0.1518</td>\n",
       "      <td>0.3857</td>\n",
       "      <td>0.1258</td>\n",
       "    </tr>\n",
       "    <tr>\n",
       "      <th>2</th>\n",
       "      <td>NaN</td>\n",
       "      <td>5</td>\n",
       "      <td>False</td>\n",
       "      <td>0.1062</td>\n",
       "      <td>0.0613</td>\n",
       "      <td>0.3857</td>\n",
       "      <td>0.1338</td>\n",
       "    </tr>\n",
       "    <tr>\n",
       "      <th>3</th>\n",
       "      <td>NaN</td>\n",
       "      <td>5</td>\n",
       "      <td>False</td>\n",
       "      <td>0.0874</td>\n",
       "      <td>-0.0783</td>\n",
       "      <td>0.3857</td>\n",
       "      <td>0.1354</td>\n",
       "    </tr>\n",
       "    <tr>\n",
       "      <th>4</th>\n",
       "      <td>NaN</td>\n",
       "      <td>5</td>\n",
       "      <td>False</td>\n",
       "      <td>0.1196</td>\n",
       "      <td>0.1489</td>\n",
       "      <td>0.3857</td>\n",
       "      <td>0.1451</td>\n",
       "    </tr>\n",
       "  </tbody>\n",
       "</table>\n",
       "</div>"
      ],
      "text/plain": [
       "   BETAp  CTp   PvSP    RTNp    SHRp   SP500    VARp\n",
       "0    NaN    5  False  0.1631  0.4112  0.3857  0.1583\n",
       "1    NaN    5  False  0.0789 -0.1518  0.3857  0.1258\n",
       "2    NaN    5  False  0.1062  0.0613  0.3857  0.1338\n",
       "3    NaN    5  False  0.0874 -0.0783  0.3857  0.1354\n",
       "4    NaN    5  False  0.1196  0.1489  0.3857  0.1451"
      ]
     },
     "execution_count": 2,
     "metadata": {},
     "output_type": "execute_result"
    }
   ],
   "source": [
    "# Import Saved Machine Learning Training Data\n",
    "ml_training_data = pd.read_excel(\"pfolio_train_data.xlsx\")\n",
    "ml_training_data.head()"
   ]
  },
  {
   "cell_type": "code",
   "execution_count": 30,
   "metadata": {},
   "outputs": [
    {
     "data": {
      "text/html": [
       "<div>\n",
       "<style scoped>\n",
       "    .dataframe tbody tr th:only-of-type {\n",
       "        vertical-align: middle;\n",
       "    }\n",
       "\n",
       "    .dataframe tbody tr th {\n",
       "        vertical-align: top;\n",
       "    }\n",
       "\n",
       "    .dataframe thead th {\n",
       "        text-align: right;\n",
       "    }\n",
       "</style>\n",
       "<table border=\"1\" class=\"dataframe\">\n",
       "  <thead>\n",
       "    <tr style=\"text-align: right;\">\n",
       "      <th></th>\n",
       "      <th>BETAp</th>\n",
       "      <th>CTp</th>\n",
       "      <th>PvSP</th>\n",
       "      <th>RTNp</th>\n",
       "      <th>SHRp</th>\n",
       "      <th>SP500</th>\n",
       "      <th>VARp</th>\n",
       "    </tr>\n",
       "  </thead>\n",
       "  <tbody>\n",
       "    <tr>\n",
       "      <th>0</th>\n",
       "      <td>NaN</td>\n",
       "      <td>5</td>\n",
       "      <td>0</td>\n",
       "      <td>0.1631</td>\n",
       "      <td>0.4112</td>\n",
       "      <td>0.3857</td>\n",
       "      <td>0.1583</td>\n",
       "    </tr>\n",
       "    <tr>\n",
       "      <th>1</th>\n",
       "      <td>NaN</td>\n",
       "      <td>5</td>\n",
       "      <td>0</td>\n",
       "      <td>0.0789</td>\n",
       "      <td>-0.1518</td>\n",
       "      <td>0.3857</td>\n",
       "      <td>0.1258</td>\n",
       "    </tr>\n",
       "    <tr>\n",
       "      <th>2</th>\n",
       "      <td>NaN</td>\n",
       "      <td>5</td>\n",
       "      <td>0</td>\n",
       "      <td>0.1062</td>\n",
       "      <td>0.0613</td>\n",
       "      <td>0.3857</td>\n",
       "      <td>0.1338</td>\n",
       "    </tr>\n",
       "    <tr>\n",
       "      <th>3</th>\n",
       "      <td>NaN</td>\n",
       "      <td>5</td>\n",
       "      <td>0</td>\n",
       "      <td>0.0874</td>\n",
       "      <td>-0.0783</td>\n",
       "      <td>0.3857</td>\n",
       "      <td>0.1354</td>\n",
       "    </tr>\n",
       "    <tr>\n",
       "      <th>4</th>\n",
       "      <td>NaN</td>\n",
       "      <td>5</td>\n",
       "      <td>0</td>\n",
       "      <td>0.1196</td>\n",
       "      <td>0.1489</td>\n",
       "      <td>0.3857</td>\n",
       "      <td>0.1451</td>\n",
       "    </tr>\n",
       "  </tbody>\n",
       "</table>\n",
       "</div>"
      ],
      "text/plain": [
       "   BETAp  CTp  PvSP    RTNp    SHRp   SP500    VARp\n",
       "0    NaN    5     0  0.1631  0.4112  0.3857  0.1583\n",
       "1    NaN    5     0  0.0789 -0.1518  0.3857  0.1258\n",
       "2    NaN    5     0  0.1062  0.0613  0.3857  0.1338\n",
       "3    NaN    5     0  0.0874 -0.0783  0.3857  0.1354\n",
       "4    NaN    5     0  0.1196  0.1489  0.3857  0.1451"
      ]
     },
     "execution_count": 30,
     "metadata": {},
     "output_type": "execute_result"
    }
   ],
   "source": [
    "# Convert PvSP Results to Binary False=0, True=1\n",
    "ml_training_data[\"PvSP\"] = ml_training_data[\"PvSP\"].apply(lambda x: 0 if x else 1)\n",
    "ml_training_data.head()"
   ]
  },
  {
   "cell_type": "code",
   "execution_count": 32,
   "metadata": {},
   "outputs": [
    {
     "data": {
      "text/plain": [
       "2"
      ]
     },
     "execution_count": 32,
     "metadata": {},
     "output_type": "execute_result"
    }
   ],
   "source": [
    "ml_training_data[\"PvSP\"].nunique()"
   ]
  },
  {
   "cell_type": "code",
   "execution_count": 33,
   "metadata": {},
   "outputs": [],
   "source": [
    "# Split Training Into A) Portfolio Training Data B) Portfolio Performance\n",
    "\n",
    "# -- Exclude Portfolio Beta Until Regression Model is Created\n",
    "pfolio_headers = \"CTp,RTNp,SHRp,VARp\".split(\",\")\n",
    "pfolio_data_df = ml_training_data[pfolio_headers]\n",
    "pfolio_results_df = ml_training_data[\"PvSP\"]"
   ]
  },
  {
   "cell_type": "code",
   "execution_count": 34,
   "metadata": {},
   "outputs": [
    {
     "data": {
      "text/html": [
       "<div>\n",
       "<style scoped>\n",
       "    .dataframe tbody tr th:only-of-type {\n",
       "        vertical-align: middle;\n",
       "    }\n",
       "\n",
       "    .dataframe tbody tr th {\n",
       "        vertical-align: top;\n",
       "    }\n",
       "\n",
       "    .dataframe thead th {\n",
       "        text-align: right;\n",
       "    }\n",
       "</style>\n",
       "<table border=\"1\" class=\"dataframe\">\n",
       "  <thead>\n",
       "    <tr style=\"text-align: right;\">\n",
       "      <th></th>\n",
       "      <th>CTp</th>\n",
       "      <th>RTNp</th>\n",
       "      <th>SHRp</th>\n",
       "      <th>VARp</th>\n",
       "    </tr>\n",
       "  </thead>\n",
       "  <tbody>\n",
       "    <tr>\n",
       "      <th>0</th>\n",
       "      <td>5</td>\n",
       "      <td>0.1631</td>\n",
       "      <td>0.4112</td>\n",
       "      <td>0.1583</td>\n",
       "    </tr>\n",
       "    <tr>\n",
       "      <th>1</th>\n",
       "      <td>5</td>\n",
       "      <td>0.0789</td>\n",
       "      <td>-0.1518</td>\n",
       "      <td>0.1258</td>\n",
       "    </tr>\n",
       "    <tr>\n",
       "      <th>2</th>\n",
       "      <td>5</td>\n",
       "      <td>0.1062</td>\n",
       "      <td>0.0613</td>\n",
       "      <td>0.1338</td>\n",
       "    </tr>\n",
       "    <tr>\n",
       "      <th>3</th>\n",
       "      <td>5</td>\n",
       "      <td>0.0874</td>\n",
       "      <td>-0.0783</td>\n",
       "      <td>0.1354</td>\n",
       "    </tr>\n",
       "    <tr>\n",
       "      <th>4</th>\n",
       "      <td>5</td>\n",
       "      <td>0.1196</td>\n",
       "      <td>0.1489</td>\n",
       "      <td>0.1451</td>\n",
       "    </tr>\n",
       "  </tbody>\n",
       "</table>\n",
       "</div>"
      ],
      "text/plain": [
       "   CTp    RTNp    SHRp    VARp\n",
       "0    5  0.1631  0.4112  0.1583\n",
       "1    5  0.0789 -0.1518  0.1258\n",
       "2    5  0.1062  0.0613  0.1338\n",
       "3    5  0.0874 -0.0783  0.1354\n",
       "4    5  0.1196  0.1489  0.1451"
      ]
     },
     "execution_count": 34,
     "metadata": {},
     "output_type": "execute_result"
    }
   ],
   "source": [
    "pfolio_data_df.head()"
   ]
  },
  {
   "cell_type": "code",
   "execution_count": 35,
   "metadata": {
    "scrolled": true
   },
   "outputs": [
    {
     "data": {
      "text/plain": [
       "0    0\n",
       "1    0\n",
       "2    0\n",
       "3    0\n",
       "4    0\n",
       "Name: PvSP, dtype: int64"
      ]
     },
     "execution_count": 35,
     "metadata": {},
     "output_type": "execute_result"
    }
   ],
   "source": [
    "pfolio_results_df.head()"
   ]
  },
  {
   "cell_type": "code",
   "execution_count": 36,
   "metadata": {},
   "outputs": [
    {
     "data": {
      "text/plain": [
       "pandas.core.series.Series"
      ]
     },
     "execution_count": 36,
     "metadata": {},
     "output_type": "execute_result"
    }
   ],
   "source": [
    "# Convert Pfolio Results Categorical \n",
    "type(pfolio_results_df)"
   ]
  },
  {
   "cell_type": "code",
   "execution_count": 37,
   "metadata": {},
   "outputs": [],
   "source": [
    "# Split & Create Training Data Subset\n",
    "x_train, x_test, y_train, y_test = train_test_split(pfolio_data_df, pfolio_results_df, random_state=42)"
   ]
  },
  {
   "cell_type": "code",
   "execution_count": 38,
   "metadata": {},
   "outputs": [
    {
     "name": "stderr",
     "output_type": "stream",
     "text": [
      "C:\\Users\\Ryan Tamashiro\\AppData\\Local\\conda\\conda\\envs\\PythonData\\lib\\site-packages\\sklearn\\preprocessing\\data.py:625: DataConversionWarning: Data with input dtype int64, float64 were all converted to float64 by StandardScaler.\n",
      "  return self.partial_fit(X, y)\n"
     ]
    }
   ],
   "source": [
    "# Data Preprocessing\n",
    "x_scaler = StandardScaler().fit(x_train)"
   ]
  },
  {
   "cell_type": "code",
   "execution_count": 39,
   "metadata": {},
   "outputs": [
    {
     "name": "stderr",
     "output_type": "stream",
     "text": [
      "C:\\Users\\Ryan Tamashiro\\AppData\\Local\\conda\\conda\\envs\\PythonData\\lib\\site-packages\\ipykernel_launcher.py:2: DataConversionWarning: Data with input dtype int64, float64 were all converted to float64 by StandardScaler.\n",
      "  \n",
      "C:\\Users\\Ryan Tamashiro\\AppData\\Local\\conda\\conda\\envs\\PythonData\\lib\\site-packages\\ipykernel_launcher.py:3: DataConversionWarning: Data with input dtype int64, float64 were all converted to float64 by StandardScaler.\n",
      "  This is separate from the ipykernel package so we can avoid doing imports until\n"
     ]
    }
   ],
   "source": [
    "# Scale Determinant Data to Increase Probabilty of Convergence\n",
    "x_train_scaled = x_scaler.transform(x_train)\n",
    "x_test_scaled = x_scaler.transform(x_test)"
   ]
  },
  {
   "cell_type": "code",
   "execution_count": 40,
   "metadata": {},
   "outputs": [],
   "source": [
    "# One - Hot Encoding: Convert Categorical Data to Numeric\n",
    "y_train_categorical = to_categorical(y_train)\n",
    "y_test_categorical = to_categorical(y_test)"
   ]
  },
  {
   "cell_type": "code",
   "execution_count": 41,
   "metadata": {},
   "outputs": [],
   "source": [
    "# Creating Machine Learning Model - Neural Network\n",
    "nn_model = Sequential()"
   ]
  },
  {
   "cell_type": "code",
   "execution_count": 42,
   "metadata": {},
   "outputs": [],
   "source": [
    "# Number of Inputs:\n",
    "col_ct = len(pfolio_data_df.columns)"
   ]
  },
  {
   "cell_type": "code",
   "execution_count": 43,
   "metadata": {},
   "outputs": [],
   "source": [
    "# Add Number of ML Inputs (Columns in DF)\n",
    "number_inputs = col_ct\n",
    "number_hidden_nodes = (col_ct * 2)\n",
    "nn_model.add(Dense(\n",
    "    units=number_hidden_nodes,\n",
    "    activation=\"relu\",\n",
    "    input_dim=number_inputs\n",
    "))"
   ]
  },
  {
   "cell_type": "code",
   "execution_count": 44,
   "metadata": {},
   "outputs": [],
   "source": [
    "# Add Number of Possible Predictive Outputs\n",
    "number_classes = 2\n",
    "nn_model.add(Dense(units=number_classes, activation=\"softmax\"))"
   ]
  },
  {
   "cell_type": "code",
   "execution_count": 45,
   "metadata": {},
   "outputs": [
    {
     "name": "stdout",
     "output_type": "stream",
     "text": [
      "_________________________________________________________________\n",
      "Layer (type)                 Output Shape              Param #   \n",
      "=================================================================\n",
      "dense_2 (Dense)              (None, 8)                 40        \n",
      "_________________________________________________________________\n",
      "dense_3 (Dense)              (None, 2)                 18        \n",
      "=================================================================\n",
      "Total params: 58\n",
      "Trainable params: 58\n",
      "Non-trainable params: 0\n",
      "_________________________________________________________________\n"
     ]
    }
   ],
   "source": [
    "# [View] Neural Network Model Summary\n",
    "nn_model.summary()"
   ]
  },
  {
   "cell_type": "code",
   "execution_count": 46,
   "metadata": {},
   "outputs": [],
   "source": [
    "# Compile Neural Network ML Model\n",
    "nn_model.compile(\n",
    "    optimizer=\"adam\",\n",
    "    loss=\"categorical_crossentropy\",\n",
    "    metrics=[\"accuracy\"],\n",
    ")"
   ]
  },
  {
   "cell_type": "code",
   "execution_count": 47,
   "metadata": {},
   "outputs": [
    {
     "data": {
      "text/plain": [
       "(75, 4)"
      ]
     },
     "execution_count": 47,
     "metadata": {},
     "output_type": "execute_result"
    }
   ],
   "source": [
    "x_train_scaled.shape"
   ]
  },
  {
   "cell_type": "code",
   "execution_count": 48,
   "metadata": {},
   "outputs": [
    {
     "data": {
      "text/plain": [
       "(75, 2)"
      ]
     },
     "execution_count": 48,
     "metadata": {},
     "output_type": "execute_result"
    }
   ],
   "source": [
    "y_train_categorical.shape"
   ]
  },
  {
   "cell_type": "code",
   "execution_count": 49,
   "metadata": {},
   "outputs": [
    {
     "data": {
      "text/plain": [
       "array([[1., 0.],\n",
       "       [1., 0.],\n",
       "       [1., 0.],\n",
       "       [1., 0.],\n",
       "       [1., 0.]], dtype=float32)"
      ]
     },
     "execution_count": 49,
     "metadata": {},
     "output_type": "execute_result"
    }
   ],
   "source": [
    "y_train_categorical[:5]"
   ]
  },
  {
   "cell_type": "code",
   "execution_count": 54,
   "metadata": {},
   "outputs": [
    {
     "name": "stdout",
     "output_type": "stream",
     "text": [
      "Epoch 1/100\n",
      " - 0s - loss: 0.0054 - acc: 1.0000\n",
      "Epoch 2/100\n",
      " - 0s - loss: 0.0054 - acc: 1.0000\n",
      "Epoch 3/100\n",
      " - 0s - loss: 0.0054 - acc: 1.0000\n",
      "Epoch 4/100\n",
      " - 0s - loss: 0.0053 - acc: 1.0000\n",
      "Epoch 5/100\n",
      " - 0s - loss: 0.0053 - acc: 1.0000\n",
      "Epoch 6/100\n",
      " - 0s - loss: 0.0053 - acc: 1.0000\n",
      "Epoch 7/100\n",
      " - 0s - loss: 0.0053 - acc: 1.0000\n",
      "Epoch 8/100\n",
      " - 0s - loss: 0.0053 - acc: 1.0000\n",
      "Epoch 9/100\n",
      " - 0s - loss: 0.0053 - acc: 1.0000\n",
      "Epoch 10/100\n",
      " - 0s - loss: 0.0053 - acc: 1.0000\n",
      "Epoch 11/100\n",
      " - 0s - loss: 0.0053 - acc: 1.0000\n",
      "Epoch 12/100\n",
      " - 0s - loss: 0.0053 - acc: 1.0000\n",
      "Epoch 13/100\n",
      " - 0s - loss: 0.0053 - acc: 1.0000\n",
      "Epoch 14/100\n",
      " - 0s - loss: 0.0053 - acc: 1.0000\n",
      "Epoch 15/100\n",
      " - 0s - loss: 0.0053 - acc: 1.0000\n",
      "Epoch 16/100\n",
      " - 0s - loss: 0.0053 - acc: 1.0000\n",
      "Epoch 17/100\n",
      " - 0s - loss: 0.0053 - acc: 1.0000\n",
      "Epoch 18/100\n",
      " - 0s - loss: 0.0052 - acc: 1.0000\n",
      "Epoch 19/100\n",
      " - 0s - loss: 0.0052 - acc: 1.0000\n",
      "Epoch 20/100\n",
      " - 0s - loss: 0.0052 - acc: 1.0000\n",
      "Epoch 21/100\n",
      " - 0s - loss: 0.0052 - acc: 1.0000\n",
      "Epoch 22/100\n",
      " - 0s - loss: 0.0052 - acc: 1.0000\n",
      "Epoch 23/100\n",
      " - 0s - loss: 0.0052 - acc: 1.0000\n",
      "Epoch 24/100\n",
      " - 0s - loss: 0.0052 - acc: 1.0000\n",
      "Epoch 25/100\n",
      " - 0s - loss: 0.0052 - acc: 1.0000\n",
      "Epoch 26/100\n",
      " - 0s - loss: 0.0052 - acc: 1.0000\n",
      "Epoch 27/100\n",
      " - 0s - loss: 0.0053 - acc: 1.0000\n",
      "Epoch 28/100\n",
      " - 0s - loss: 0.0052 - acc: 1.0000\n",
      "Epoch 29/100\n",
      " - 0s - loss: 0.0052 - acc: 1.0000\n",
      "Epoch 30/100\n",
      " - 0s - loss: 0.0052 - acc: 1.0000\n",
      "Epoch 31/100\n",
      " - 0s - loss: 0.0051 - acc: 1.0000\n",
      "Epoch 32/100\n",
      " - 0s - loss: 0.0051 - acc: 1.0000\n",
      "Epoch 33/100\n",
      " - 0s - loss: 0.0051 - acc: 1.0000\n",
      "Epoch 34/100\n",
      " - 0s - loss: 0.0051 - acc: 1.0000\n",
      "Epoch 35/100\n",
      " - 0s - loss: 0.0051 - acc: 1.0000\n",
      "Epoch 36/100\n",
      " - 0s - loss: 0.0051 - acc: 1.0000\n",
      "Epoch 37/100\n",
      " - 0s - loss: 0.0051 - acc: 1.0000\n",
      "Epoch 38/100\n",
      " - 0s - loss: 0.0051 - acc: 1.0000\n",
      "Epoch 39/100\n",
      " - 0s - loss: 0.0051 - acc: 1.0000\n",
      "Epoch 40/100\n",
      " - 0s - loss: 0.0051 - acc: 1.0000\n",
      "Epoch 41/100\n",
      " - 0s - loss: 0.0052 - acc: 1.0000\n",
      "Epoch 42/100\n",
      " - 0s - loss: 0.0051 - acc: 1.0000\n",
      "Epoch 43/100\n",
      " - 0s - loss: 0.0051 - acc: 1.0000\n",
      "Epoch 44/100\n",
      " - 0s - loss: 0.0051 - acc: 1.0000\n",
      "Epoch 45/100\n",
      " - 0s - loss: 0.0051 - acc: 1.0000\n",
      "Epoch 46/100\n",
      " - 0s - loss: 0.0050 - acc: 1.0000\n",
      "Epoch 47/100\n",
      " - 0s - loss: 0.0050 - acc: 1.0000\n",
      "Epoch 48/100\n",
      " - 0s - loss: 0.0050 - acc: 1.0000\n",
      "Epoch 49/100\n",
      " - 0s - loss: 0.0050 - acc: 1.0000\n",
      "Epoch 50/100\n",
      " - 0s - loss: 0.0050 - acc: 1.0000\n",
      "Epoch 51/100\n",
      " - 0s - loss: 0.0050 - acc: 1.0000\n",
      "Epoch 52/100\n",
      " - 0s - loss: 0.0050 - acc: 1.0000\n",
      "Epoch 53/100\n",
      " - 0s - loss: 0.0050 - acc: 1.0000\n",
      "Epoch 54/100\n",
      " - 0s - loss: 0.0050 - acc: 1.0000\n",
      "Epoch 55/100\n",
      " - 0s - loss: 0.0050 - acc: 1.0000\n",
      "Epoch 56/100\n",
      " - 0s - loss: 0.0050 - acc: 1.0000\n",
      "Epoch 57/100\n",
      " - 0s - loss: 0.0050 - acc: 1.0000\n",
      "Epoch 58/100\n",
      " - 0s - loss: 0.0050 - acc: 1.0000\n",
      "Epoch 59/100\n",
      " - 0s - loss: 0.0050 - acc: 1.0000\n",
      "Epoch 60/100\n",
      " - 0s - loss: 0.0049 - acc: 1.0000\n",
      "Epoch 61/100\n",
      " - 0s - loss: 0.0050 - acc: 1.0000\n",
      "Epoch 62/100\n",
      " - 0s - loss: 0.0049 - acc: 1.0000\n",
      "Epoch 63/100\n",
      " - 0s - loss: 0.0049 - acc: 1.0000\n",
      "Epoch 64/100\n",
      " - 0s - loss: 0.0049 - acc: 1.0000\n",
      "Epoch 65/100\n",
      " - 0s - loss: 0.0049 - acc: 1.0000\n",
      "Epoch 66/100\n",
      " - 0s - loss: 0.0049 - acc: 1.0000\n",
      "Epoch 67/100\n",
      " - 0s - loss: 0.0049 - acc: 1.0000\n",
      "Epoch 68/100\n",
      " - 0s - loss: 0.0049 - acc: 1.0000\n",
      "Epoch 69/100\n",
      " - 0s - loss: 0.0050 - acc: 1.0000\n",
      "Epoch 70/100\n",
      " - 0s - loss: 0.0050 - acc: 1.0000\n",
      "Epoch 71/100\n",
      " - 0s - loss: 0.0050 - acc: 1.0000\n",
      "Epoch 72/100\n",
      " - 0s - loss: 0.0049 - acc: 1.0000\n",
      "Epoch 73/100\n",
      " - 0s - loss: 0.0049 - acc: 1.0000\n",
      "Epoch 74/100\n",
      " - 0s - loss: 0.0049 - acc: 1.0000\n",
      "Epoch 75/100\n",
      " - 0s - loss: 0.0049 - acc: 1.0000\n",
      "Epoch 76/100\n",
      " - 0s - loss: 0.0049 - acc: 1.0000\n",
      "Epoch 77/100\n",
      " - 0s - loss: 0.0049 - acc: 1.0000\n",
      "Epoch 78/100\n",
      " - 0s - loss: 0.0048 - acc: 1.0000\n",
      "Epoch 79/100\n",
      " - 0s - loss: 0.0048 - acc: 1.0000\n",
      "Epoch 80/100\n",
      " - 0s - loss: 0.0048 - acc: 1.0000\n",
      "Epoch 81/100\n",
      " - 0s - loss: 0.0048 - acc: 1.0000\n",
      "Epoch 82/100\n",
      " - 0s - loss: 0.0048 - acc: 1.0000\n",
      "Epoch 83/100\n",
      " - 0s - loss: 0.0048 - acc: 1.0000\n",
      "Epoch 84/100\n",
      " - 0s - loss: 0.0048 - acc: 1.0000\n",
      "Epoch 85/100\n",
      " - 0s - loss: 0.0048 - acc: 1.0000\n",
      "Epoch 86/100\n",
      " - 0s - loss: 0.0048 - acc: 1.0000\n",
      "Epoch 87/100\n",
      " - 0s - loss: 0.0048 - acc: 1.0000\n",
      "Epoch 88/100\n",
      " - 0s - loss: 0.0048 - acc: 1.0000\n",
      "Epoch 89/100\n",
      " - 0s - loss: 0.0048 - acc: 1.0000\n",
      "Epoch 90/100\n",
      " - 0s - loss: 0.0048 - acc: 1.0000\n",
      "Epoch 91/100\n",
      " - 0s - loss: 0.0048 - acc: 1.0000\n",
      "Epoch 92/100\n",
      " - 0s - loss: 0.0048 - acc: 1.0000\n",
      "Epoch 93/100\n",
      " - 0s - loss: 0.0047 - acc: 1.0000\n",
      "Epoch 94/100\n",
      " - 0s - loss: 0.0047 - acc: 1.0000\n",
      "Epoch 95/100\n",
      " - 0s - loss: 0.0047 - acc: 1.0000\n",
      "Epoch 96/100\n",
      " - 0s - loss: 0.0047 - acc: 1.0000\n",
      "Epoch 97/100\n",
      " - 0s - loss: 0.0048 - acc: 1.0000\n",
      "Epoch 98/100\n",
      " - 0s - loss: 0.0047 - acc: 1.0000\n",
      "Epoch 99/100\n",
      " - 0s - loss: 0.0047 - acc: 1.0000\n",
      "Epoch 100/100\n",
      " - 0s - loss: 0.0047 - acc: 1.0000\n"
     ]
    },
    {
     "data": {
      "text/plain": [
       "<tensorflow.python.keras.callbacks.History at 0x132c52c66d8>"
      ]
     },
     "execution_count": 54,
     "metadata": {},
     "output_type": "execute_result"
    }
   ],
   "source": [
    "nn_model.fit(\n",
    "    x_train_scaled,\n",
    "    y_train_categorical,\n",
    "    epochs=100,\n",
    "    shuffle=True,\n",
    "    verbose=2\n",
    ")"
   ]
  },
  {
   "cell_type": "code",
   "execution_count": 56,
   "metadata": {},
   "outputs": [
    {
     "ename": "ValueError",
     "evalue": "You are passing a target array of shape (25, 1) while using as loss `categorical_crossentropy`. `categorical_crossentropy` expects targets to be binary matrices (1s and 0s) of shape (samples, classes). If your targets are integer classes, you can convert them to the expected format via:\n```\nfrom keras.utils import to_categorical\ny_binary = to_categorical(y_int)\n```\n\nAlternatively, you can use the loss function `sparse_categorical_crossentropy` instead, which does expect integer targets.",
     "output_type": "error",
     "traceback": [
      "\u001b[1;31m---------------------------------------------------------------------------\u001b[0m",
      "\u001b[1;31mValueError\u001b[0m                                Traceback (most recent call last)",
      "\u001b[1;32m<ipython-input-56-cddfd1995df5>\u001b[0m in \u001b[0;36m<module>\u001b[1;34m\u001b[0m\n\u001b[0;32m      2\u001b[0m     \u001b[0mx_test_scaled\u001b[0m\u001b[1;33m,\u001b[0m\u001b[1;33m\u001b[0m\u001b[1;33m\u001b[0m\u001b[0m\n\u001b[0;32m      3\u001b[0m     \u001b[0my_test_categorical\u001b[0m\u001b[1;33m,\u001b[0m\u001b[1;33m\u001b[0m\u001b[1;33m\u001b[0m\u001b[0m\n\u001b[1;32m----> 4\u001b[1;33m     \u001b[0mverbose\u001b[0m\u001b[1;33m=\u001b[0m\u001b[1;36m0\u001b[0m\u001b[1;33m\u001b[0m\u001b[1;33m\u001b[0m\u001b[0m\n\u001b[0m\u001b[0;32m      5\u001b[0m )\n",
      "\u001b[1;32m~\\AppData\\Local\\conda\\conda\\envs\\PythonData\\lib\\site-packages\\tensorflow\\python\\keras\\engine\\training.py\u001b[0m in \u001b[0;36mevaluate\u001b[1;34m(self, x, y, batch_size, verbose, sample_weight, steps, max_queue_size, workers, use_multiprocessing)\u001b[0m\n\u001b[0;32m    987\u001b[0m         \u001b[0mcheck_steps\u001b[0m\u001b[1;33m=\u001b[0m\u001b[1;32mTrue\u001b[0m\u001b[1;33m,\u001b[0m\u001b[1;33m\u001b[0m\u001b[1;33m\u001b[0m\u001b[0m\n\u001b[0;32m    988\u001b[0m         \u001b[0msteps_name\u001b[0m\u001b[1;33m=\u001b[0m\u001b[1;34m'steps'\u001b[0m\u001b[1;33m,\u001b[0m\u001b[1;33m\u001b[0m\u001b[1;33m\u001b[0m\u001b[0m\n\u001b[1;32m--> 989\u001b[1;33m         steps=steps)\n\u001b[0m\u001b[0;32m    990\u001b[0m \u001b[1;33m\u001b[0m\u001b[0m\n\u001b[0;32m    991\u001b[0m     if (self.run_eagerly or (isinstance(x, iterator_ops.EagerIterator) and\n",
      "\u001b[1;32m~\\AppData\\Local\\conda\\conda\\envs\\PythonData\\lib\\site-packages\\tensorflow\\python\\keras\\engine\\training.py\u001b[0m in \u001b[0;36m_standardize_user_data\u001b[1;34m(self, x, y, sample_weight, class_weight, batch_size, check_steps, steps_name, steps, validation_split, shuffle)\u001b[0m\n\u001b[0;32m   2438\u001b[0m           \u001b[1;31m# Additional checks to avoid users mistakenly using improper loss fns.\u001b[0m\u001b[1;33m\u001b[0m\u001b[1;33m\u001b[0m\u001b[1;33m\u001b[0m\u001b[0m\n\u001b[0;32m   2439\u001b[0m           training_utils.check_loss_and_target_compatibility(\n\u001b[1;32m-> 2440\u001b[1;33m               y, self._feed_loss_fns, feed_output_shapes)\n\u001b[0m\u001b[0;32m   2441\u001b[0m     \u001b[1;32melse\u001b[0m\u001b[1;33m:\u001b[0m\u001b[1;33m\u001b[0m\u001b[1;33m\u001b[0m\u001b[0m\n\u001b[0;32m   2442\u001b[0m       \u001b[0my\u001b[0m \u001b[1;33m=\u001b[0m \u001b[1;33m[\u001b[0m\u001b[1;33m]\u001b[0m\u001b[1;33m\u001b[0m\u001b[1;33m\u001b[0m\u001b[0m\n",
      "\u001b[1;32m~\\AppData\\Local\\conda\\conda\\envs\\PythonData\\lib\\site-packages\\tensorflow\\python\\keras\\engine\\training_utils.py\u001b[0m in \u001b[0;36mcheck_loss_and_target_compatibility\u001b[1;34m(targets, loss_fns, output_shapes)\u001b[0m\n\u001b[0;32m    491\u001b[0m       \u001b[1;32mif\u001b[0m \u001b[0my\u001b[0m\u001b[1;33m.\u001b[0m\u001b[0mshape\u001b[0m\u001b[1;33m[\u001b[0m\u001b[1;33m-\u001b[0m\u001b[1;36m1\u001b[0m\u001b[1;33m]\u001b[0m \u001b[1;33m==\u001b[0m \u001b[1;36m1\u001b[0m\u001b[1;33m:\u001b[0m\u001b[1;33m\u001b[0m\u001b[1;33m\u001b[0m\u001b[0m\n\u001b[0;32m    492\u001b[0m         raise ValueError('You are passing a target array of shape ' + str(\n\u001b[1;32m--> 493\u001b[1;33m             y.shape) + ' while using as loss `categorical_crossentropy`. '\n\u001b[0m\u001b[0;32m    494\u001b[0m                          \u001b[1;34m'`categorical_crossentropy` expects '\u001b[0m\u001b[1;33m\u001b[0m\u001b[1;33m\u001b[0m\u001b[0m\n\u001b[0;32m    495\u001b[0m                          \u001b[1;34m'targets to be binary matrices (1s and 0s) '\u001b[0m\u001b[1;33m\u001b[0m\u001b[1;33m\u001b[0m\u001b[0m\n",
      "\u001b[1;31mValueError\u001b[0m: You are passing a target array of shape (25, 1) while using as loss `categorical_crossentropy`. `categorical_crossentropy` expects targets to be binary matrices (1s and 0s) of shape (samples, classes). If your targets are integer classes, you can convert them to the expected format via:\n```\nfrom keras.utils import to_categorical\ny_binary = to_categorical(y_int)\n```\n\nAlternatively, you can use the loss function `sparse_categorical_crossentropy` instead, which does expect integer targets."
     ]
    }
   ],
   "source": [
    "model_loss, model_accuracy = nn_model.evaluate(\n",
    "    x_test_scaled,\n",
    "    y_test_categorical,\n",
    "    verbose=0\n",
    ")"
   ]
  },
  {
   "cell_type": "code",
   "execution_count": null,
   "metadata": {},
   "outputs": [],
   "source": []
  }
 ],
 "metadata": {
  "kernelspec": {
   "display_name": "Python 3",
   "language": "python",
   "name": "python3"
  },
  "language_info": {
   "codemirror_mode": {
    "name": "ipython",
    "version": 3
   },
   "file_extension": ".py",
   "mimetype": "text/x-python",
   "name": "python",
   "nbconvert_exporter": "python",
   "pygments_lexer": "ipython3",
   "version": "3.6.7"
  }
 },
 "nbformat": 4,
 "nbformat_minor": 2
}
