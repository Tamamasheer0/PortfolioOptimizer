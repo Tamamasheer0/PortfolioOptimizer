{
 "cells": [
  {
   "cell_type": "code",
   "execution_count": 1,
   "metadata": {},
   "outputs": [],
   "source": [
    "%matplotlib inline\n",
    "\n",
    "import matplotlib.pyplot as plt\n",
    "import datetime as dt\n",
    "import pandas as pd\n",
    "import numpy as np\n",
    "\n",
    "from apidata import (\n",
    "    closing_prices,\n",
    "    optimize_portfolio,\n",
    "    backtest_portfolio,\n",
    "    evaluate_portfolio,\n",
    ")"
   ]
  },
  {
   "cell_type": "code",
   "execution_count": 2,
   "metadata": {},
   "outputs": [],
   "source": [
    "# 1: <Good Performance> Select Stocks For Inclusion in Portfolio\n",
    "selected_stocks = [\"AMZN\",\"JPM\",\"FCX\",\"HAL\",\"F\"]"
   ]
  },
  {
   "cell_type": "code",
   "execution_count": 3,
   "metadata": {},
   "outputs": [
    {
     "name": "stdout",
     "output_type": "stream",
     "text": [
      "[0] Retrieving Stock Data: AMZN\n",
      "[1] Retrieving Stock Data: JPM\n",
      "[2] Retrieving Stock Data: FCX\n",
      "[3] Retrieving Stock Data: HAL\n",
      "[4] Retrieving Stock Data: F\n",
      "\n",
      "Optimizing Portfolio Weights >> Simulations: x 5000\n",
      "\n",
      "Optimized Portfolio Weights:\n",
      "AMZN        0.5705\n",
      "F           0.0247\n",
      "FCX         0.0159\n",
      "HAL         0.0066\n",
      "JPM         0.3823\n",
      "Return      0.2284\n",
      "Sharpe      0.6151\n",
      "Variance    0.2120\n",
      "Name: 4033, dtype: float64\n"
     ]
    }
   ],
   "source": [
    "# 2: Optimize Portfolio Around List of Provided Stocks\n",
    "portfolio = optimize_portfolio(selected_stocks)"
   ]
  },
  {
   "cell_type": "code",
   "execution_count": 4,
   "metadata": {},
   "outputs": [
    {
     "name": "stdout",
     "output_type": "stream",
     "text": [
      "\n",
      "Ticker: AMZN \tPortfolio Weight: 0.5705\n",
      "                AMZN\n",
      "Date                \n",
      "2014-01-03 -0.002198\n",
      "2014-01-06 -0.004058\n",
      "2014-01-07  0.006342\n",
      "2014-01-08  0.005549\n",
      "2014-01-09 -0.001293\n",
      "\n",
      "Ticker: F \tPortfolio Weight: 0.0247\n",
      "                   F\n",
      "Date                \n",
      "2014-01-03  0.000112\n",
      "2014-01-06  0.000111\n",
      "2014-01-07 -0.000319\n",
      "2014-01-08  0.000256\n",
      "2014-01-09  0.000472\n",
      "\n",
      "Ticker: FCX \tPortfolio Weight: 0.0159\n",
      "                 FCX\n",
      "Date                \n",
      "2014-01-03 -0.000132\n",
      "2014-01-06 -0.000128\n",
      "2014-01-07 -0.000155\n",
      "2014-01-08 -0.000201\n",
      "2014-01-09 -0.000217\n",
      "\n",
      "Ticker: HAL \tPortfolio Weight: 0.0066\n",
      "                 HAL\n",
      "Date                \n",
      "2014-01-03  0.000016\n",
      "2014-01-06  0.000025\n",
      "2014-01-07 -0.000016\n",
      "2014-01-08 -0.000093\n",
      "2014-01-09  0.000015\n",
      "\n",
      "Ticker: JPM \tPortfolio Weight: 0.3823\n",
      "                 JPM\n",
      "Date                \n",
      "2014-01-03  0.002944\n",
      "2014-01-06  0.002209\n",
      "2014-01-07 -0.004432\n",
      "2014-01-08  0.003588\n",
      "2014-01-09 -0.000715\n",
      "\n",
      "[Historic] Portfolio Performance:\n",
      "                 AMZN         F       FCX       HAL       JPM      RTNp\n",
      "Date                                                                  \n",
      "2014-01-03 -0.002198  0.000112 -0.000132  0.000016  0.002944  0.000743\n",
      "2014-01-06 -0.004058  0.000111 -0.000128  0.000025  0.002209 -0.001841\n",
      "2014-01-07  0.006342 -0.000319 -0.000155 -0.000016 -0.004432  0.001420\n",
      "2014-01-08  0.005549  0.000256 -0.000201 -0.000093  0.003588  0.009099\n",
      "2014-01-09 -0.001293  0.000472 -0.000217  0.000015 -0.000715 -0.001738\n"
     ]
    }
   ],
   "source": [
    "# 3: Back-Test Performance of Optimized Portfolio Using Historical Data\n",
    "performance = backtest_portfolio(portfolio)"
   ]
  },
  {
   "cell_type": "code",
   "execution_count": 5,
   "metadata": {},
   "outputs": [
    {
     "name": "stdout",
     "output_type": "stream",
     "text": [
      "                AMZN         F       FCX       HAL       JPM      RTNp  \\\n",
      "Date                                                                     \n",
      "2014-01-03 -0.002198  0.000112 -0.000132  0.000016  0.002944  0.000743   \n",
      "2014-01-06 -0.004058  0.000111 -0.000128  0.000025  0.002209 -0.001841   \n",
      "2014-01-07  0.006342 -0.000319 -0.000155 -0.000016 -0.004432  0.001420   \n",
      "2014-01-08  0.005549  0.000256 -0.000201 -0.000093  0.003588  0.009099   \n",
      "2014-01-09 -0.001293  0.000472 -0.000217  0.000015 -0.000715 -0.001738   \n",
      "\n",
      "                RTNm    Excess       Compare  \n",
      "Date                                          \n",
      "2014-01-03  0.005026 -0.004284  Underperform  \n",
      "2014-01-06 -0.021439  0.019598    Outperform  \n",
      "2014-01-07  0.005109 -0.003689  Underperform  \n",
      "2014-01-08 -0.005897  0.014997    Outperform  \n",
      "2014-01-09 -0.005932  0.004195    Outperform  \n"
     ]
    }
   ],
   "source": [
    "# 4: Evaluate Portfolio Historic Performance Against Benchmark\n",
    "pfolio_eval = evaluate_portfolio(performance)"
   ]
  },
  {
   "cell_type": "code",
   "execution_count": 6,
   "metadata": {},
   "outputs": [
    {
     "data": {
      "text/html": [
       "<div>\n",
       "<style scoped>\n",
       "    .dataframe tbody tr th:only-of-type {\n",
       "        vertical-align: middle;\n",
       "    }\n",
       "\n",
       "    .dataframe tbody tr th {\n",
       "        vertical-align: top;\n",
       "    }\n",
       "\n",
       "    .dataframe thead th {\n",
       "        text-align: right;\n",
       "    }\n",
       "</style>\n",
       "<table border=\"1\" class=\"dataframe\">\n",
       "  <thead>\n",
       "    <tr style=\"text-align: right;\">\n",
       "      <th></th>\n",
       "      <th>AMZN</th>\n",
       "      <th>F</th>\n",
       "      <th>FCX</th>\n",
       "      <th>HAL</th>\n",
       "      <th>JPM</th>\n",
       "      <th>RTNp</th>\n",
       "      <th>RTNm</th>\n",
       "      <th>Excess</th>\n",
       "      <th>Compare</th>\n",
       "    </tr>\n",
       "    <tr>\n",
       "      <th>Date</th>\n",
       "      <th></th>\n",
       "      <th></th>\n",
       "      <th></th>\n",
       "      <th></th>\n",
       "      <th></th>\n",
       "      <th></th>\n",
       "      <th></th>\n",
       "      <th></th>\n",
       "      <th></th>\n",
       "    </tr>\n",
       "  </thead>\n",
       "  <tbody>\n",
       "    <tr>\n",
       "      <th>2014-01-03</th>\n",
       "      <td>-0.002198</td>\n",
       "      <td>0.000112</td>\n",
       "      <td>-0.000132</td>\n",
       "      <td>0.000016</td>\n",
       "      <td>0.002944</td>\n",
       "      <td>0.000743</td>\n",
       "      <td>0.005026</td>\n",
       "      <td>-0.004284</td>\n",
       "      <td>Underperform</td>\n",
       "    </tr>\n",
       "    <tr>\n",
       "      <th>2014-01-06</th>\n",
       "      <td>-0.004058</td>\n",
       "      <td>0.000111</td>\n",
       "      <td>-0.000128</td>\n",
       "      <td>0.000025</td>\n",
       "      <td>0.002209</td>\n",
       "      <td>-0.001841</td>\n",
       "      <td>-0.021439</td>\n",
       "      <td>0.019598</td>\n",
       "      <td>Outperform</td>\n",
       "    </tr>\n",
       "    <tr>\n",
       "      <th>2014-01-07</th>\n",
       "      <td>0.006342</td>\n",
       "      <td>-0.000319</td>\n",
       "      <td>-0.000155</td>\n",
       "      <td>-0.000016</td>\n",
       "      <td>-0.004432</td>\n",
       "      <td>0.001420</td>\n",
       "      <td>0.005109</td>\n",
       "      <td>-0.003689</td>\n",
       "      <td>Underperform</td>\n",
       "    </tr>\n",
       "    <tr>\n",
       "      <th>2014-01-08</th>\n",
       "      <td>0.005549</td>\n",
       "      <td>0.000256</td>\n",
       "      <td>-0.000201</td>\n",
       "      <td>-0.000093</td>\n",
       "      <td>0.003588</td>\n",
       "      <td>0.009099</td>\n",
       "      <td>-0.005897</td>\n",
       "      <td>0.014997</td>\n",
       "      <td>Outperform</td>\n",
       "    </tr>\n",
       "    <tr>\n",
       "      <th>2014-01-09</th>\n",
       "      <td>-0.001293</td>\n",
       "      <td>0.000472</td>\n",
       "      <td>-0.000217</td>\n",
       "      <td>0.000015</td>\n",
       "      <td>-0.000715</td>\n",
       "      <td>-0.001738</td>\n",
       "      <td>-0.005932</td>\n",
       "      <td>0.004195</td>\n",
       "      <td>Outperform</td>\n",
       "    </tr>\n",
       "  </tbody>\n",
       "</table>\n",
       "</div>"
      ],
      "text/plain": [
       "                AMZN         F       FCX       HAL       JPM      RTNp  \\\n",
       "Date                                                                     \n",
       "2014-01-03 -0.002198  0.000112 -0.000132  0.000016  0.002944  0.000743   \n",
       "2014-01-06 -0.004058  0.000111 -0.000128  0.000025  0.002209 -0.001841   \n",
       "2014-01-07  0.006342 -0.000319 -0.000155 -0.000016 -0.004432  0.001420   \n",
       "2014-01-08  0.005549  0.000256 -0.000201 -0.000093  0.003588  0.009099   \n",
       "2014-01-09 -0.001293  0.000472 -0.000217  0.000015 -0.000715 -0.001738   \n",
       "\n",
       "                RTNm    Excess       Compare  \n",
       "Date                                          \n",
       "2014-01-03  0.005026 -0.004284  Underperform  \n",
       "2014-01-06 -0.021439  0.019598    Outperform  \n",
       "2014-01-07  0.005109 -0.003689  Underperform  \n",
       "2014-01-08 -0.005897  0.014997    Outperform  \n",
       "2014-01-09 -0.005932  0.004195    Outperform  "
      ]
     },
     "execution_count": 6,
     "metadata": {},
     "output_type": "execute_result"
    }
   ],
   "source": [
    "# [View] Portfolio Evaluation Summary\n",
    "pfolio_eval.head()"
   ]
  },
  {
   "cell_type": "code",
   "execution_count": 7,
   "metadata": {
    "scrolled": true
   },
   "outputs": [
    {
     "data": {
      "text/plain": [
       "AMZN       1063\n",
       "F          1063\n",
       "FCX        1063\n",
       "HAL        1063\n",
       "JPM        1063\n",
       "RTNp       1063\n",
       "RTNm       1063\n",
       "Excess     1063\n",
       "Compare    1063\n",
       "dtype: int64"
      ]
     },
     "execution_count": 7,
     "metadata": {},
     "output_type": "execute_result"
    }
   ],
   "source": [
    "# [View] Evaluation Sample Size\n",
    "pfolio_eval.count()"
   ]
  },
  {
   "cell_type": "code",
   "execution_count": 8,
   "metadata": {
    "scrolled": true
   },
   "outputs": [
    {
     "data": {
      "text/plain": [
       "Outperform      0.5136\n",
       "Underperform    0.4864\n",
       "Name: Compare, dtype: float64"
      ]
     },
     "execution_count": 8,
     "metadata": {},
     "output_type": "execute_result"
    }
   ],
   "source": [
    "# [View] Portfolio/Market Performance Comparison Summary\n",
    "round(pfolio_eval[\"Compare\"].value_counts()/pfolio_eval[\"Compare\"].count(), 4)"
   ]
  },
  {
   "cell_type": "code",
   "execution_count": 9,
   "metadata": {},
   "outputs": [
    {
     "data": {
      "text/plain": [
       "Date\n",
       "2014-01-03    0.000743\n",
       "2014-01-06   -0.001841\n",
       "2014-01-07    0.001420\n",
       "2014-01-08    0.009099\n",
       "2014-01-09   -0.001738\n",
       "2014-01-10   -0.005867\n",
       "2014-01-13   -0.015165\n",
       "2014-01-14    0.010524\n",
       "2014-01-15    0.009706\n",
       "2014-01-16   -0.003120\n",
       "Name: RTNp, dtype: float64"
      ]
     },
     "execution_count": 9,
     "metadata": {},
     "output_type": "execute_result"
    }
   ],
   "source": [
    "pfolio_eval[\"RTNp\"].head(10)"
   ]
  },
  {
   "cell_type": "code",
   "execution_count": 10,
   "metadata": {},
   "outputs": [],
   "source": [
    "xaxis_dates = pfolio_eval.reset_index()[\"Date\"]\n",
    "xmin = xaxis_dates.iloc[0]\n",
    "xmax = xaxis_dates.iloc[-1]"
   ]
  },
  {
   "cell_type": "code",
   "execution_count": 11,
   "metadata": {},
   "outputs": [
    {
     "data": {
      "text/plain": [
       "<matplotlib.collections.LineCollection at 0x1f31018bcf8>"
      ]
     },
     "execution_count": 11,
     "metadata": {},
     "output_type": "execute_result"
    },
    {
     "data": {
      "image/png": "[encoded data removed]",
      "text/plain": [
       "<Figure size 432x288 with 1 Axes>"
      ]
     },
     "metadata": {
      "needs_background": "light"
     },
     "output_type": "display_data"
    }
   ],
   "source": [
    "# [View] Volatility of Portfolio Returns\n",
    "pfolio_eval[\"RTNp\"].plot(alpha=.75)\n",
    "plt.title(\"[Optimized] Volatility of Returns\")\n",
    "plt.xlabel(\"Dates\")\n",
    "plt.ylabel(\"Daily Return\")\n",
    "plt.ylim(-.08, .08)\n",
    "plt.grid(axis=\"y\", linestyle=\"dashed\")\n",
    "plt.hlines(.02, xmin, xmax, linestyle=\"dashed\", colors=\"red\")\n",
    "plt.hlines(-.02, xmin, xmax, linestyle=\"dashed\", colors=\"red\")"
   ]
  },
  {
   "cell_type": "code",
   "execution_count": 12,
   "metadata": {},
   "outputs": [
    {
     "data": {
      "text/plain": [
       "<matplotlib.collections.LineCollection at 0x1f310dc0da0>"
      ]
     },
     "execution_count": 12,
     "metadata": {},
     "output_type": "execute_result"
    },
    {
     "data": {
      "image/png": "[encoded data removed]",
      "text/plain": [
       "<Figure size 432x288 with 1 Axes>"
      ]
     },
     "metadata": {
      "needs_background": "light"
     },
     "output_type": "display_data"
    }
   ],
   "source": [
    "# [View] Volatility of Market Returns\n",
    "pfolio_eval[\"RTNm\"].plot(alpha=.75)\n",
    "plt.title(\"[S&P500] Volatility of Returns\")\n",
    "plt.xlabel(\"Date\")\n",
    "plt.ylabel(\"Daily Returns\")\n",
    "plt.ylim(-.08, .08)\n",
    "plt.grid(axis=\"y\", linestyle=\"dashed\")\n",
    "plt.hlines(.02, xmin, xmax, linestyle=\"dashed\", colors=\"red\")\n",
    "plt.hlines(-.02, xmin, xmax, linestyle=\"dashed\", colors=\"red\")"
   ]
  },
  {
   "cell_type": "code",
   "execution_count": 13,
   "metadata": {},
   "outputs": [],
   "source": [
    "# Calculate Portfolio Beta -- Show The Correlation of Returns\n",
    "# Explanation as to Why On an Absolute Basis Portfolio Underpeforms Only Slightly\n"
   ]
  },
  {
   "cell_type": "code",
   "execution_count": 14,
   "metadata": {},
   "outputs": [],
   "source": [
    "rtn_df = pfolio_eval[\"RTNp\"].apply(lambda x: x + 1).reset_index()"
   ]
  },
  {
   "cell_type": "code",
   "execution_count": 15,
   "metadata": {},
   "outputs": [
    {
     "data": {
      "text/html": [
       "<div>\n",
       "<style scoped>\n",
       "    .dataframe tbody tr th:only-of-type {\n",
       "        vertical-align: middle;\n",
       "    }\n",
       "\n",
       "    .dataframe tbody tr th {\n",
       "        vertical-align: top;\n",
       "    }\n",
       "\n",
       "    .dataframe thead th {\n",
       "        text-align: right;\n",
       "    }\n",
       "</style>\n",
       "<table border=\"1\" class=\"dataframe\">\n",
       "  <thead>\n",
       "    <tr style=\"text-align: right;\">\n",
       "      <th></th>\n",
       "      <th>Date</th>\n",
       "      <th>RTNp</th>\n",
       "    </tr>\n",
       "  </thead>\n",
       "  <tbody>\n",
       "    <tr>\n",
       "      <th>0</th>\n",
       "      <td>2014-01-03</td>\n",
       "      <td>1.000743</td>\n",
       "    </tr>\n",
       "    <tr>\n",
       "      <th>1</th>\n",
       "      <td>2014-01-06</td>\n",
       "      <td>0.998159</td>\n",
       "    </tr>\n",
       "    <tr>\n",
       "      <th>2</th>\n",
       "      <td>2014-01-07</td>\n",
       "      <td>1.001420</td>\n",
       "    </tr>\n",
       "    <tr>\n",
       "      <th>3</th>\n",
       "      <td>2014-01-08</td>\n",
       "      <td>1.009099</td>\n",
       "    </tr>\n",
       "    <tr>\n",
       "      <th>4</th>\n",
       "      <td>2014-01-09</td>\n",
       "      <td>0.998262</td>\n",
       "    </tr>\n",
       "  </tbody>\n",
       "</table>\n",
       "</div>"
      ],
      "text/plain": [
       "        Date      RTNp\n",
       "0 2014-01-03  1.000743\n",
       "1 2014-01-06  0.998159\n",
       "2 2014-01-07  1.001420\n",
       "3 2014-01-08  1.009099\n",
       "4 2014-01-09  0.998262"
      ]
     },
     "execution_count": 15,
     "metadata": {},
     "output_type": "execute_result"
    }
   ],
   "source": [
    "rtn_df.head()"
   ]
  },
  {
   "cell_type": "code",
   "execution_count": null,
   "metadata": {},
   "outputs": [],
   "source": [
    "rtn_df.iloc[0][\"Date\"].date()"
   ]
  },
  {
   "cell_type": "code",
   "execution_count": null,
   "metadata": {},
   "outputs": [],
   "source": [
    "mkt_val = [(row[1][0].date(), row[1][1]) for row in rtn_df.iterrows()]"
   ]
  },
  {
   "cell_type": "code",
   "execution_count": null,
   "metadata": {},
   "outputs": [],
   "source": [
    "mkt_val[:10]"
   ]
  },
  {
   "cell_type": "code",
   "execution_count": 16,
   "metadata": {},
   "outputs": [
    {
     "data": {
      "text/html": [
       "<div>\n",
       "<style scoped>\n",
       "    .dataframe tbody tr th:only-of-type {\n",
       "        vertical-align: middle;\n",
       "    }\n",
       "\n",
       "    .dataframe tbody tr th {\n",
       "        vertical-align: top;\n",
       "    }\n",
       "\n",
       "    .dataframe thead th {\n",
       "        text-align: right;\n",
       "    }\n",
       "</style>\n",
       "<table border=\"1\" class=\"dataframe\">\n",
       "  <thead>\n",
       "    <tr style=\"text-align: right;\">\n",
       "      <th></th>\n",
       "      <th>AMZN</th>\n",
       "      <th>F</th>\n",
       "      <th>FCX</th>\n",
       "      <th>HAL</th>\n",
       "      <th>JPM</th>\n",
       "      <th>RTNp</th>\n",
       "      <th>RTNm</th>\n",
       "      <th>Excess</th>\n",
       "    </tr>\n",
       "  </thead>\n",
       "  <tbody>\n",
       "    <tr>\n",
       "      <th>count</th>\n",
       "      <td>1063.000000</td>\n",
       "      <td>1063.000000</td>\n",
       "      <td>1063.000000</td>\n",
       "      <td>1.063000e+03</td>\n",
       "      <td>1063.000000</td>\n",
       "      <td>1063.000000</td>\n",
       "      <td>1063.000000</td>\n",
       "      <td>1063.000000</td>\n",
       "    </tr>\n",
       "    <tr>\n",
       "      <th>mean</th>\n",
       "      <td>0.000711</td>\n",
       "      <td>-0.000008</td>\n",
       "      <td>-0.000012</td>\n",
       "      <td>-3.209241e-07</td>\n",
       "      <td>0.000221</td>\n",
       "      <td>0.000912</td>\n",
       "      <td>0.000294</td>\n",
       "      <td>0.000618</td>\n",
       "    </tr>\n",
       "    <tr>\n",
       "      <th>std</th>\n",
       "      <td>0.010585</td>\n",
       "      <td>0.000354</td>\n",
       "      <td>0.000577</td>\n",
       "      <td>1.291707e-04</td>\n",
       "      <td>0.005021</td>\n",
       "      <td>0.013410</td>\n",
       "      <td>0.017077</td>\n",
       "      <td>0.019227</td>\n",
       "    </tr>\n",
       "    <tr>\n",
       "      <th>min</th>\n",
       "      <td>-0.066465</td>\n",
       "      <td>-0.002104</td>\n",
       "      <td>-0.003614</td>\n",
       "      <td>-7.585735e-04</td>\n",
       "      <td>-0.027529</td>\n",
       "      <td>-0.071391</td>\n",
       "      <td>-0.076003</td>\n",
       "      <td>-0.084721</td>\n",
       "    </tr>\n",
       "    <tr>\n",
       "      <th>25%</th>\n",
       "      <td>-0.003945</td>\n",
       "      <td>-0.000179</td>\n",
       "      <td>-0.000276</td>\n",
       "      <td>-6.865347e-05</td>\n",
       "      <td>-0.002110</td>\n",
       "      <td>-0.005504</td>\n",
       "      <td>-0.008794</td>\n",
       "      <td>-0.009869</td>\n",
       "    </tr>\n",
       "    <tr>\n",
       "      <th>50%</th>\n",
       "      <td>0.000633</td>\n",
       "      <td>0.000000</td>\n",
       "      <td>-0.000008</td>\n",
       "      <td>-1.500512e-06</td>\n",
       "      <td>0.000204</td>\n",
       "      <td>0.001232</td>\n",
       "      <td>0.000000</td>\n",
       "      <td>0.000447</td>\n",
       "    </tr>\n",
       "    <tr>\n",
       "      <th>75%</th>\n",
       "      <td>0.005893</td>\n",
       "      <td>0.000199</td>\n",
       "      <td>0.000241</td>\n",
       "      <td>7.575392e-05</td>\n",
       "      <td>0.002856</td>\n",
       "      <td>0.007624</td>\n",
       "      <td>0.009350</td>\n",
       "      <td>0.011093</td>\n",
       "    </tr>\n",
       "    <tr>\n",
       "      <th>max</th>\n",
       "      <td>0.075407</td>\n",
       "      <td>0.001223</td>\n",
       "      <td>0.004007</td>\n",
       "      <td>6.941363e-04</td>\n",
       "      <td>0.030584</td>\n",
       "      <td>0.074764</td>\n",
       "      <td>0.082238</td>\n",
       "      <td>0.093376</td>\n",
       "    </tr>\n",
       "  </tbody>\n",
       "</table>\n",
       "</div>"
      ],
      "text/plain": [
       "              AMZN            F          FCX           HAL          JPM  \\\n",
       "count  1063.000000  1063.000000  1063.000000  1.063000e+03  1063.000000   \n",
       "mean      0.000711    -0.000008    -0.000012 -3.209241e-07     0.000221   \n",
       "std       0.010585     0.000354     0.000577  1.291707e-04     0.005021   \n",
       "min      -0.066465    -0.002104    -0.003614 -7.585735e-04    -0.027529   \n",
       "25%      -0.003945    -0.000179    -0.000276 -6.865347e-05    -0.002110   \n",
       "50%       0.000633     0.000000    -0.000008 -1.500512e-06     0.000204   \n",
       "75%       0.005893     0.000199     0.000241  7.575392e-05     0.002856   \n",
       "max       0.075407     0.001223     0.004007  6.941363e-04     0.030584   \n",
       "\n",
       "              RTNp         RTNm       Excess  \n",
       "count  1063.000000  1063.000000  1063.000000  \n",
       "mean      0.000912     0.000294     0.000618  \n",
       "std       0.013410     0.017077     0.019227  \n",
       "min      -0.071391    -0.076003    -0.084721  \n",
       "25%      -0.005504    -0.008794    -0.009869  \n",
       "50%       0.001232     0.000000     0.000447  \n",
       "75%       0.007624     0.009350     0.011093  \n",
       "max       0.074764     0.082238     0.093376  "
      ]
     },
     "execution_count": 16,
     "metadata": {},
     "output_type": "execute_result"
    }
   ],
   "source": [
    "pfolio_eval.describe()"
   ]
  },
  {
   "cell_type": "code",
   "execution_count": null,
   "metadata": {},
   "outputs": [],
   "source": []
  }
 ],
 "metadata": {
  "kernelspec": {
   "display_name": "Python 3",
   "language": "python",
   "name": "python3"
  },
  "language_info": {
   "codemirror_mode": {
    "name": "ipython",
    "version": 3
   },
   "file_extension": ".py",
   "mimetype": "text/x-python",
   "name": "python",
   "nbconvert_exporter": "python",
   "pygments_lexer": "ipython3",
   "version": "3.6.7"
  }
 },
 "nbformat": 4,
 "nbformat_minor": 2
}
