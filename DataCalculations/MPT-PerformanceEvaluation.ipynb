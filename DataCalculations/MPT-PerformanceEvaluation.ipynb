{
 "cells": [
  {
   "cell_type": "code",
   "execution_count": 1,
   "metadata": {},
   "outputs": [],
   "source": [
    "%matplotlib inline\n",
    "\n",
    "import matplotlib.pyplot as plt\n",
    "import datetime as dt\n",
    "import pandas as pd\n",
    "import numpy as np\n",
    "\n",
    "from apidata import (\n",
    "    closing_prices,\n",
    "    optimize_portfolio,\n",
    "    backtest_portfolio,\n",
    "    evaluate_portfolio,\n",
    ")"
   ]
  },
  {
   "cell_type": "code",
   "execution_count": 2,
   "metadata": {},
   "outputs": [],
   "source": [
    "# 1: <Good Performance> Select Stocks For Inclusion in Portfolio\n",
    "#selected_stocks = [\"AMZN\",\"JPM\",\"FCX\",\"HAL\",\"F\"]\n",
    "\n",
    "selected_stocks = \"GOOG,JPM,HAL\".split(\",\")"
   ]
  },
  {
   "cell_type": "code",
   "execution_count": 6,
   "metadata": {},
   "outputs": [
    {
     "name": "stdout",
     "output_type": "stream",
     "text": [
      "[0] Retrieving Stock Data: GOOG\n",
      "[1] Retrieving Stock Data: JPM\n",
      "[2] Retrieving Stock Data: HAL\n",
      "\n",
      "Optimizing Portfolio Weights >> Simulations: x 1000\n",
      "\n",
      "Optimized Portfolio Weights:\n",
      "GOOG        0.4683\n",
      "HAL         0.0001\n",
      "JPM         0.5317\n",
      "Return      0.1464\n",
      "Sharpe      0.2670\n",
      "Variance    0.1813\n",
      "Name: 434, dtype: float64\n"
     ]
    }
   ],
   "source": [
    "# 2: Optimize Portfolio Around List of Provided Stocks\n",
    "portfolio = optimize_portfolio(selected_stocks, simulations=1000)"
   ]
  },
  {
   "cell_type": "code",
   "execution_count": 7,
   "metadata": {},
   "outputs": [
    {
     "name": "stdout",
     "output_type": "stream",
     "text": [
      "\n",
      "Ticker: GOOG \tPortfolio Weight: 0.4683\n",
      "                GOOG\n",
      "Date                \n",
      "2014-03-28  0.001281\n",
      "2014-03-31 -0.002532\n",
      "2014-04-01  0.008490\n",
      "2014-04-02 -0.000132\n",
      "2014-04-03  0.002258\n",
      "\n",
      "Ticker: HAL \tPortfolio Weight: 0.0001\n",
      "                     HAL\n",
      "Date                    \n",
      "2014-01-03  2.396646e-07\n",
      "2014-01-06  3.782981e-07\n",
      "2014-01-07 -2.387586e-07\n",
      "2014-01-08 -1.404236e-06\n",
      "2014-01-09  2.219757e-07\n",
      "\n",
      "Ticker: JPM \tPortfolio Weight: 0.5317\n",
      "                 JPM\n",
      "Date                \n",
      "2014-01-03  0.004095\n",
      "2014-01-06  0.003073\n",
      "2014-01-07 -0.006164\n",
      "2014-01-08  0.004991\n",
      "2014-01-09 -0.000994\n",
      "\n",
      "[Historic] Portfolio Performance:\n",
      "                 GOOG           HAL       JPM      RTNp\n",
      "Date                                                  \n",
      "2014-03-28  0.001281  2.331029e-06  0.001064  0.002347\n",
      "2014-03-31 -0.002532 -9.632521e-07  0.005900  0.003367\n",
      "2014-04-01  0.008490  1.248751e-06 -0.000350  0.008141\n",
      "2014-04-02 -0.000132  5.018411e-07 -0.001668 -0.001799\n",
      "2014-04-03  0.002258 -2.171554e-07  0.001580  0.003837\n"
     ]
    }
   ],
   "source": [
    "# 3: Back-Test Performance of Optimized Portfolio Using Historical Data\n",
    "performance = backtest_portfolio(portfolio)"
   ]
  },
  {
   "cell_type": "code",
   "execution_count": 15,
   "metadata": {},
   "outputs": [
    {
     "data": {
      "text/html": [
       "<div>\n",
       "<style scoped>\n",
       "    .dataframe tbody tr th:only-of-type {\n",
       "        vertical-align: middle;\n",
       "    }\n",
       "\n",
       "    .dataframe tbody tr th {\n",
       "        vertical-align: top;\n",
       "    }\n",
       "\n",
       "    .dataframe thead th {\n",
       "        text-align: right;\n",
       "    }\n",
       "</style>\n",
       "<table border=\"1\" class=\"dataframe\">\n",
       "  <thead>\n",
       "    <tr style=\"text-align: right;\">\n",
       "      <th></th>\n",
       "      <th>GOOG</th>\n",
       "      <th>HAL</th>\n",
       "      <th>JPM</th>\n",
       "      <th>RTNp</th>\n",
       "    </tr>\n",
       "    <tr>\n",
       "      <th>Date</th>\n",
       "      <th></th>\n",
       "      <th></th>\n",
       "      <th></th>\n",
       "      <th></th>\n",
       "    </tr>\n",
       "  </thead>\n",
       "  <tbody>\n",
       "    <tr>\n",
       "      <th>2014-03-28</th>\n",
       "      <td>0.001281</td>\n",
       "      <td>2.331029e-06</td>\n",
       "      <td>0.001064</td>\n",
       "      <td>0.002347</td>\n",
       "    </tr>\n",
       "    <tr>\n",
       "      <th>2014-03-31</th>\n",
       "      <td>-0.002532</td>\n",
       "      <td>-9.632521e-07</td>\n",
       "      <td>0.005900</td>\n",
       "      <td>0.003367</td>\n",
       "    </tr>\n",
       "    <tr>\n",
       "      <th>2014-04-01</th>\n",
       "      <td>0.008490</td>\n",
       "      <td>1.248751e-06</td>\n",
       "      <td>-0.000350</td>\n",
       "      <td>0.008141</td>\n",
       "    </tr>\n",
       "    <tr>\n",
       "      <th>2014-04-02</th>\n",
       "      <td>-0.000132</td>\n",
       "      <td>5.018411e-07</td>\n",
       "      <td>-0.001668</td>\n",
       "      <td>-0.001799</td>\n",
       "    </tr>\n",
       "    <tr>\n",
       "      <th>2014-04-03</th>\n",
       "      <td>0.002258</td>\n",
       "      <td>-2.171554e-07</td>\n",
       "      <td>0.001580</td>\n",
       "      <td>0.003837</td>\n",
       "    </tr>\n",
       "  </tbody>\n",
       "</table>\n",
       "</div>"
      ],
      "text/plain": [
       "                GOOG           HAL       JPM      RTNp\n",
       "Date                                                  \n",
       "2014-03-28  0.001281  2.331029e-06  0.001064  0.002347\n",
       "2014-03-31 -0.002532 -9.632521e-07  0.005900  0.003367\n",
       "2014-04-01  0.008490  1.248751e-06 -0.000350  0.008141\n",
       "2014-04-02 -0.000132  5.018411e-07 -0.001668 -0.001799\n",
       "2014-04-03  0.002258 -2.171554e-07  0.001580  0.003837"
      ]
     },
     "execution_count": 15,
     "metadata": {},
     "output_type": "execute_result"
    }
   ],
   "source": [
    "performance.head()"
   ]
  },
  {
   "cell_type": "code",
   "execution_count": null,
   "metadata": {},
   "outputs": [],
   "source": []
  },
  {
   "cell_type": "code",
   "execution_count": 8,
   "metadata": {},
   "outputs": [
    {
     "name": "stdout",
     "output_type": "stream",
     "text": [
      "                GOOG           HAL       JPM      RTNp      RTNm    Excess  \\\n",
      "Date                                                                         \n",
      "2014-03-28  0.001281  2.331029e-06  0.001064  0.002347 -0.026811  0.029159   \n",
      "2014-03-31 -0.002532 -9.632521e-07  0.005900  0.003367  0.019605 -0.016238   \n",
      "2014-04-01  0.008490  1.248751e-06 -0.000350  0.008141 -0.008794  0.016935   \n",
      "2014-04-02 -0.000132  5.018411e-07 -0.001668 -0.001799  0.001535 -0.003334   \n",
      "2014-04-03  0.002258 -2.171554e-07  0.001580  0.003837 -0.007698  0.011536   \n",
      "\n",
      "                 Compare  \n",
      "Date                      \n",
      "2014-03-28    Outperform  \n",
      "2014-03-31  Underperform  \n",
      "2014-04-01    Outperform  \n",
      "2014-04-02  Underperform  \n",
      "2014-04-03    Outperform  \n"
     ]
    }
   ],
   "source": [
    "# 4: Evaluate Portfolio Historic Performance Against Benchmark\n",
    "pfolio_eval = evaluate_portfolio(performance)"
   ]
  },
  {
   "cell_type": "code",
   "execution_count": 9,
   "metadata": {},
   "outputs": [
    {
     "data": {
      "text/html": [
       "<div>\n",
       "<style scoped>\n",
       "    .dataframe tbody tr th:only-of-type {\n",
       "        vertical-align: middle;\n",
       "    }\n",
       "\n",
       "    .dataframe tbody tr th {\n",
       "        vertical-align: top;\n",
       "    }\n",
       "\n",
       "    .dataframe thead th {\n",
       "        text-align: right;\n",
       "    }\n",
       "</style>\n",
       "<table border=\"1\" class=\"dataframe\">\n",
       "  <thead>\n",
       "    <tr style=\"text-align: right;\">\n",
       "      <th></th>\n",
       "      <th>GOOG</th>\n",
       "      <th>HAL</th>\n",
       "      <th>JPM</th>\n",
       "      <th>RTNp</th>\n",
       "      <th>RTNm</th>\n",
       "      <th>Excess</th>\n",
       "      <th>Compare</th>\n",
       "    </tr>\n",
       "    <tr>\n",
       "      <th>Date</th>\n",
       "      <th></th>\n",
       "      <th></th>\n",
       "      <th></th>\n",
       "      <th></th>\n",
       "      <th></th>\n",
       "      <th></th>\n",
       "      <th></th>\n",
       "    </tr>\n",
       "  </thead>\n",
       "  <tbody>\n",
       "    <tr>\n",
       "      <th>2014-03-28</th>\n",
       "      <td>0.001281</td>\n",
       "      <td>2.331029e-06</td>\n",
       "      <td>0.001064</td>\n",
       "      <td>0.002347</td>\n",
       "      <td>-0.026811</td>\n",
       "      <td>0.029159</td>\n",
       "      <td>Outperform</td>\n",
       "    </tr>\n",
       "    <tr>\n",
       "      <th>2014-03-31</th>\n",
       "      <td>-0.002532</td>\n",
       "      <td>-9.632521e-07</td>\n",
       "      <td>0.005900</td>\n",
       "      <td>0.003367</td>\n",
       "      <td>0.019605</td>\n",
       "      <td>-0.016238</td>\n",
       "      <td>Underperform</td>\n",
       "    </tr>\n",
       "    <tr>\n",
       "      <th>2014-04-01</th>\n",
       "      <td>0.008490</td>\n",
       "      <td>1.248751e-06</td>\n",
       "      <td>-0.000350</td>\n",
       "      <td>0.008141</td>\n",
       "      <td>-0.008794</td>\n",
       "      <td>0.016935</td>\n",
       "      <td>Outperform</td>\n",
       "    </tr>\n",
       "    <tr>\n",
       "      <th>2014-04-02</th>\n",
       "      <td>-0.000132</td>\n",
       "      <td>5.018411e-07</td>\n",
       "      <td>-0.001668</td>\n",
       "      <td>-0.001799</td>\n",
       "      <td>0.001535</td>\n",
       "      <td>-0.003334</td>\n",
       "      <td>Underperform</td>\n",
       "    </tr>\n",
       "    <tr>\n",
       "      <th>2014-04-03</th>\n",
       "      <td>0.002258</td>\n",
       "      <td>-2.171554e-07</td>\n",
       "      <td>0.001580</td>\n",
       "      <td>0.003837</td>\n",
       "      <td>-0.007698</td>\n",
       "      <td>0.011536</td>\n",
       "      <td>Outperform</td>\n",
       "    </tr>\n",
       "  </tbody>\n",
       "</table>\n",
       "</div>"
      ],
      "text/plain": [
       "                GOOG           HAL       JPM      RTNp      RTNm    Excess  \\\n",
       "Date                                                                         \n",
       "2014-03-28  0.001281  2.331029e-06  0.001064  0.002347 -0.026811  0.029159   \n",
       "2014-03-31 -0.002532 -9.632521e-07  0.005900  0.003367  0.019605 -0.016238   \n",
       "2014-04-01  0.008490  1.248751e-06 -0.000350  0.008141 -0.008794  0.016935   \n",
       "2014-04-02 -0.000132  5.018411e-07 -0.001668 -0.001799  0.001535 -0.003334   \n",
       "2014-04-03  0.002258 -2.171554e-07  0.001580  0.003837 -0.007698  0.011536   \n",
       "\n",
       "                 Compare  \n",
       "Date                      \n",
       "2014-03-28    Outperform  \n",
       "2014-03-31  Underperform  \n",
       "2014-04-01    Outperform  \n",
       "2014-04-02  Underperform  \n",
       "2014-04-03    Outperform  "
      ]
     },
     "execution_count": 9,
     "metadata": {},
     "output_type": "execute_result"
    }
   ],
   "source": [
    "# [View] Portfolio Evaluation Summary\n",
    "pfolio_eval.head()"
   ]
  },
  {
   "cell_type": "code",
   "execution_count": 10,
   "metadata": {
    "scrolled": true
   },
   "outputs": [
    {
     "data": {
      "text/plain": [
       "GOOG       1006\n",
       "HAL        1006\n",
       "JPM        1006\n",
       "RTNp       1006\n",
       "RTNm       1006\n",
       "Excess     1006\n",
       "Compare    1006\n",
       "dtype: int64"
      ]
     },
     "execution_count": 10,
     "metadata": {},
     "output_type": "execute_result"
    }
   ],
   "source": [
    "# [View] Evaluation Sample Size\n",
    "pfolio_eval.count()"
   ]
  },
  {
   "cell_type": "code",
   "execution_count": 11,
   "metadata": {
    "scrolled": true
   },
   "outputs": [
    {
     "data": {
      "text/plain": [
       "Outperform      0.5179\n",
       "Underperform    0.4821\n",
       "Name: Compare, dtype: float64"
      ]
     },
     "execution_count": 11,
     "metadata": {},
     "output_type": "execute_result"
    }
   ],
   "source": [
    "# [View] Portfolio/Market Performance Comparison Summary\n",
    "round(pfolio_eval[\"Compare\"].value_counts()/pfolio_eval[\"Compare\"].count(), 4)"
   ]
  },
  {
   "cell_type": "code",
   "execution_count": 12,
   "metadata": {},
   "outputs": [
    {
     "data": {
      "text/plain": [
       "Date\n",
       "2014-03-28    0.002347\n",
       "2014-03-31    0.003367\n",
       "2014-04-01    0.008141\n",
       "2014-04-02   -0.001799\n",
       "2014-04-03    0.003837\n",
       "2014-04-04   -0.029895\n",
       "2014-04-07   -0.011576\n",
       "2014-04-08    0.013002\n",
       "2014-04-09    0.011515\n",
       "2014-04-10   -0.036704\n",
       "Name: RTNp, dtype: float64"
      ]
     },
     "execution_count": 12,
     "metadata": {},
     "output_type": "execute_result"
    }
   ],
   "source": [
    "pfolio_eval[\"RTNp\"].head(10)"
   ]
  },
  {
   "cell_type": "code",
   "execution_count": 13,
   "metadata": {},
   "outputs": [],
   "source": [
    "xaxis_dates = pfolio_eval.reset_index()[\"Date\"]\n",
    "xmin = xaxis_dates.iloc[0]\n",
    "xmax = xaxis_dates.iloc[-1]"
   ]
  },
  {
   "cell_type": "code",
   "execution_count": 14,
   "metadata": {},
   "outputs": [
    {
     "data": {
      "text/plain": [
       "<matplotlib.collections.LineCollection at 0x253148eb278>"
      ]
     },
     "execution_count": 14,
     "metadata": {},
     "output_type": "execute_result"
    },
    {
     "data": {
      "image/png": "[encoded data removed]",
      "text/plain": [
       "<Figure size 432x288 with 1 Axes>"
      ]
     },
     "metadata": {
      "needs_background": "light"
     },
     "output_type": "display_data"
    }
   ],
   "source": [
    "# [View] Volatility of Portfolio Returns\n",
    "pfolio_eval[\"RTNp\"].plot(alpha=.75)\n",
    "plt.title(\"[Optimized] Volatility of Returns\")\n",
    "plt.xlabel(\"Dates\")\n",
    "plt.ylabel(\"Daily Return\")\n",
    "plt.ylim(-.08, .08)\n",
    "plt.grid(axis=\"y\", linestyle=\"dashed\")\n",
    "plt.hlines(.02, xmin, xmax, linestyle=\"dashed\", colors=\"red\")\n",
    "plt.hlines(-.02, xmin, xmax, linestyle=\"dashed\", colors=\"red\")"
   ]
  },
  {
   "cell_type": "code",
   "execution_count": null,
   "metadata": {},
   "outputs": [],
   "source": [
    "# [View] Volatility of Market Returns\n",
    "pfolio_eval[\"RTNm\"].plot(alpha=.75)\n",
    "plt.title(\"[S&P500] Volatility of Returns\")\n",
    "plt.xlabel(\"Date\")\n",
    "plt.ylabel(\"Daily Returns\")\n",
    "plt.ylim(-.08, .08)\n",
    "plt.grid(axis=\"y\", linestyle=\"dashed\")\n",
    "plt.hlines(.02, xmin, xmax, linestyle=\"dashed\", colors=\"red\")\n",
    "plt.hlines(-.02, xmin, xmax, linestyle=\"dashed\", colors=\"red\")"
   ]
  },
  {
   "cell_type": "code",
   "execution_count": null,
   "metadata": {},
   "outputs": [],
   "source": [
    "# Calculate Portfolio Beta -- Show The Correlation of Returns\n",
    "# Explanation as to Why On an Absolute Basis Portfolio Underpeforms Only Slightly\n"
   ]
  },
  {
   "cell_type": "code",
   "execution_count": null,
   "metadata": {},
   "outputs": [],
   "source": [
    "rtn_df = pfolio_eval[\"RTNp\"].apply(lambda x: x + 1).reset_index()"
   ]
  },
  {
   "cell_type": "code",
   "execution_count": null,
   "metadata": {},
   "outputs": [],
   "source": [
    "rtn_df.head()"
   ]
  },
  {
   "cell_type": "code",
   "execution_count": null,
   "metadata": {},
   "outputs": [],
   "source": [
    "rtn_df.iloc[0][\"Date\"].date()"
   ]
  },
  {
   "cell_type": "code",
   "execution_count": null,
   "metadata": {},
   "outputs": [],
   "source": [
    "mkt_val = [(row[1][0].date(), row[1][1]) for row in rtn_df.iterrows()]"
   ]
  },
  {
   "cell_type": "code",
   "execution_count": null,
   "metadata": {},
   "outputs": [],
   "source": [
    "mkt_val[:10]"
   ]
  },
  {
   "cell_type": "code",
   "execution_count": null,
   "metadata": {},
   "outputs": [],
   "source": [
    "pfolio_eval.describe()"
   ]
  },
  {
   "cell_type": "code",
   "execution_count": null,
   "metadata": {},
   "outputs": [],
   "source": []
  }
 ],
 "metadata": {
  "kernelspec": {
   "display_name": "Python 3",
   "language": "python",
   "name": "python3"
  },
  "language_info": {
   "codemirror_mode": {
    "name": "ipython",
    "version": 3
   },
   "file_extension": ".py",
   "mimetype": "text/x-python",
   "name": "python",
   "nbconvert_exporter": "python",
   "pygments_lexer": "ipython3",
   "version": "3.6.7"
  }
 },
 "nbformat": 4,
 "nbformat_minor": 2
}
