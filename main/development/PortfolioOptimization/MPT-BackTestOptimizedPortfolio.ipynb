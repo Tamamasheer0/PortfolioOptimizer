{
 "cells": [
  {
   "cell_type": "code",
   "execution_count": 1,
   "metadata": {},
   "outputs": [],
   "source": [
    "%matplotlib inline\n",
    "\n",
    "import matplotlib.pyplot as plt\n",
    "import datetime as dt\n",
    "import pandas as pd\n",
    "import numpy as np\n",
    "\n",
    "from apidata import (\n",
    "    quandl_stock_data,\n",
    "    optimize_portfolio,\n",
    "    closing_prices,\n",
    ")"
   ]
  },
  {
   "cell_type": "code",
   "execution_count": 2,
   "metadata": {},
   "outputs": [
    {
     "data": {
      "text/plain": [
       "['AMZN', 'PFE', 'AMD', 'HAL', 'PG', 'COF']"
      ]
     },
     "execution_count": 2,
     "metadata": {},
     "output_type": "execute_result"
    }
   ],
   "source": [
    "stock_selection = [\n",
    "    \"AMZN\",\n",
    "    \"PFE\",\n",
    "    \"AMD\",\n",
    "    \"HAL\",\n",
    "    \"PG\",\n",
    "    \"COF\",    \n",
    "]\n",
    "\n",
    "stock_selection"
   ]
  },
  {
   "cell_type": "code",
   "execution_count": 3,
   "metadata": {},
   "outputs": [
    {
     "name": "stdout",
     "output_type": "stream",
     "text": [
      "[0] Retrieving Stock Data: AMZN\n",
      "[1] Retrieving Stock Data: PFE\n",
      "[2] Retrieving Stock Data: AMD\n",
      "[3] Retrieving Stock Data: HAL\n",
      "[4] Retrieving Stock Data: PG\n",
      "[5] Retrieving Stock Data: COF\n",
      "\n",
      "Optimizing Portfolio Weights >> Simulations: x 5000\n",
      "\n",
      "Optimized Portfolio Weights:\n",
      "AMD         0.2361\n",
      "AMZN        0.5599\n",
      "COF         0.0095\n",
      "HAL         0.0899\n",
      "PFE         0.0321\n",
      "PG          0.0724\n",
      "Return      0.2256\n",
      "Sharpe      0.5129\n",
      "Variance    0.2488\n",
      "Name: 2167, dtype: float64\n"
     ]
    }
   ],
   "source": [
    "portfolio = optimize_portfolio(assets=stock_selection)"
   ]
  },
  {
   "cell_type": "code",
   "execution_count": 4,
   "metadata": {},
   "outputs": [],
   "source": [
    "def backtest_portfolio_performance(pfolio):\n",
    "    exclude = [\"Return\", \"Sharpe\", \"Variance\"]\n",
    "    assets = [(a,wt) for a, wt in pfolio.items() if a not in exclude]\n",
    "    \n",
    "    # Initialize Portfolio Back-Test Performance DataFrame\n",
    "    back_test = closing_prices(assets[0][0]).set_index(\"Date\")\n",
    "    back_test = np.log(back_test / back_test.shift(1)).iloc[1:]\n",
    "    back_test = back_test.apply(lambda x: x * assets[0][1])\n",
    "    \n",
    "    for allocation in assets[1:]:\n",
    "        stock = allocation[0]\n",
    "        weight = allocation[1]\n",
    "        print(f'\\nTicker: {stock} \\tPortfolio Weight: {weight}')\n",
    "        \n",
    "        closing_data = closing_prices(stock).set_index(\"Date\")\n",
    "        pct_return = np.log(closing_data / closing_data.shift(1)).iloc[1:]\n",
    "        pct_return = pct_return.apply(lambda x: x * weight)\n",
    "        back_test = pd.merge(back_test, pct_return, on=\"Date\", how=\"inner\")\n",
    "        print(pct_return.head())\n",
    "        \n",
    "    back_test[\"RTNp\"] = back_test.sum(axis=1)\n",
    "    print(\"\\n[Historic] Portfolio Performance:\\n\", back_test.head())\n",
    "    \n",
    "    return back_test"
   ]
  },
  {
   "cell_type": "code",
   "execution_count": 5,
   "metadata": {},
   "outputs": [
    {
     "name": "stdout",
     "output_type": "stream",
     "text": [
      "\n",
      "Ticker: AMZN \tPortfolio Weight: 0.5599\n",
      "                AMZN\n",
      "Date                \n",
      "2014-01-03 -0.002157\n",
      "2014-01-06 -0.003983\n",
      "2014-01-07  0.006224\n",
      "2014-01-08  0.005445\n",
      "2014-01-09 -0.001269\n",
      "\n",
      "Ticker: COF \tPortfolio Weight: 0.0095\n",
      "                 COF\n",
      "Date                \n",
      "2014-01-03  0.000011\n",
      "2014-01-06 -0.000093\n",
      "2014-01-07  0.000085\n",
      "2014-01-08  0.000070\n",
      "2014-01-09  0.000000\n",
      "\n",
      "Ticker: HAL \tPortfolio Weight: 0.0899\n",
      "                 HAL\n",
      "Date                \n",
      "2014-01-03  0.000215\n",
      "2014-01-06  0.000340\n",
      "2014-01-07 -0.000215\n",
      "2014-01-08 -0.001262\n",
      "2014-01-09  0.000200\n",
      "\n",
      "Ticker: PFE \tPortfolio Weight: 0.0321\n",
      "                 PFE\n",
      "Date                \n",
      "2014-01-03  0.000063\n",
      "2014-01-06  0.000032\n",
      "2014-01-07  0.000199\n",
      "2014-01-08  0.000219\n",
      "2014-01-09 -0.000021\n",
      "\n",
      "Ticker: PG \tPortfolio Weight: 0.0724\n",
      "                  PG\n",
      "Date                \n",
      "2014-01-03 -0.000081\n",
      "2014-01-06  0.000171\n",
      "2014-01-07  0.000697\n",
      "2014-01-08 -0.001057\n",
      "2014-01-09  0.000162\n",
      "\n",
      "[Historic] Portfolio Performance:\n",
      "                  AMD      AMZN       COF       HAL       PFE        PG  \\\n",
      "Date                                                                     \n",
      "2014-01-03  0.002970 -0.002157  0.000011  0.000215  0.000063 -0.000081   \n",
      "2014-01-06  0.007551 -0.003983 -0.000093  0.000340  0.000032  0.000171   \n",
      "2014-01-07  0.002841  0.006224  0.000085 -0.000215  0.000199  0.000697   \n",
      "2014-01-08  0.000000  0.005445  0.000070 -0.001262  0.000219 -0.001057   \n",
      "2014-01-09 -0.005139 -0.001269  0.000000  0.000200 -0.000021  0.000162   \n",
      "\n",
      "                RTNp  \n",
      "Date                  \n",
      "2014-01-03  0.001022  \n",
      "2014-01-06  0.004018  \n",
      "2014-01-07  0.009832  \n",
      "2014-01-08  0.003414  \n",
      "2014-01-09 -0.006067  \n"
     ]
    }
   ],
   "source": [
    "historic_perform = backtest_portfolio_performance(pfolio=portfolio)"
   ]
  },
  {
   "cell_type": "code",
   "execution_count": null,
   "metadata": {},
   "outputs": [],
   "source": [
    "historic_perform.tail(10)"
   ]
  },
  {
   "cell_type": "code",
   "execution_count": null,
   "metadata": {},
   "outputs": [],
   "source": [
    "historic_perform.describe()"
   ]
  },
  {
   "cell_type": "code",
   "execution_count": null,
   "metadata": {
    "scrolled": true
   },
   "outputs": [],
   "source": [
    "x_min = dt.date(2014, 1, 1)\n",
    "x_max = dt.date(2018, 3, 27)\n",
    "\n",
    "historic_perform[\"RTNp\"].plot(alpha=0.75)\n",
    "plt.grid(axis=\"y\", linestyle=\"dashed\")\n",
    "plt.hlines(.02, x_min, x_max, color=\"red\", linestyle=\"dashed\")\n",
    "plt.hlines(-.02, x_min, x_max, color=\"red\", linestyle=\"dashed\")\n",
    "plt.show()"
   ]
  },
  {
   "cell_type": "code",
   "execution_count": null,
   "metadata": {},
   "outputs": [],
   "source": [
    "RTNp = historic_perform[\"RTNp\"]\n",
    "RTNp.head(10)"
   ]
  },
  {
   "cell_type": "code",
   "execution_count": null,
   "metadata": {},
   "outputs": [],
   "source": [
    "type(RTNp)"
   ]
  },
  {
   "cell_type": "code",
   "execution_count": null,
   "metadata": {},
   "outputs": [],
   "source": [
    "RTNp.map(lambda x: x + 1)\n",
    "RTNp.head()"
   ]
  },
  {
   "cell_type": "code",
   "execution_count": null,
   "metadata": {},
   "outputs": [],
   "source": []
  }
 ],
 "metadata": {
  "kernelspec": {
   "display_name": "Python 3",
   "language": "python",
   "name": "python3"
  },
  "language_info": {
   "codemirror_mode": {
    "name": "ipython",
    "version": 3
   },
   "file_extension": ".py",
   "mimetype": "text/x-python",
   "name": "python",
   "nbconvert_exporter": "python",
   "pygments_lexer": "ipython3",
   "version": "3.6.7"
  }
 },
 "nbformat": 4,
 "nbformat_minor": 2
}
