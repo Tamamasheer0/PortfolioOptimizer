{
 "cells": [
  {
   "cell_type": "markdown",
   "metadata": {},
   "source": [
    "<h3>Module 1: Generate ML Training Data</h3>\n",
    "<br />\n",
    "<p> Desription: \n",
    "This module generates the input data used to train our neural network machine learning model.\n",
    "It achieves this by simulating several thousand randomly generated portfolios with the following characteristics:\n",
    "    - Randomly between 5-10 stocks to include w/n the portfolio\n",
    "    - Randomly weights each asset within the portfolio\n",
    "    - Backtests the performace of the portfolio\n",
    "    - Saves the performance metrics of the portfolio to a dicitionary\n",
    "       \n",
    " </p>"
   ]
  },
  {
   "cell_type": "code",
   "execution_count": 1,
   "metadata": {},
   "outputs": [],
   "source": [
    "%matplotlib inline\n",
    "import datetime as dt\n",
    "import matplotlib.pyplot as plt\n",
    "import numpy as np\n",
    "import pandas as pd\n",
    "import random\n",
    "random.seed(42)\n",
    "import statsmodels.api as sm\n",
    "from apidata import (\n",
    "    closing_prices,\n",
    "    exp_portfolio_return,\n",
    "    exp_portfolio_variance,\n",
    "    mod_sharpe_ratio\n",
    ")\n",
    "\n",
    "from scipy import stats"
   ]
  },
  {
   "cell_type": "code",
   "execution_count": 2,
   "metadata": {},
   "outputs": [],
   "source": [
    "def generate_random_portfolio():\n",
    "    stocklist_df = pd.read_csv(\"StockTickers.csv\")\n",
    "    stocklist = list(dict(stocklist_df)[\"Tickers\"])\n",
    "\n",
    "    random_portfolio = []\n",
    "    for i in range(random.randint(6, 10)):\n",
    "        add_stock = random.choice(stocklist)\n",
    "        if add_stock not in random_portfolio:\n",
    "            random_portfolio.append(add_stock)\n",
    "            del add_stock\n",
    "    \n",
    "    print(\"\\nRandom Generated Portfolio\", random_portfolio)\n",
    "    return random_portfolio"
   ]
  },
  {
   "cell_type": "code",
   "execution_count": null,
   "metadata": {},
   "outputs": [],
   "source": [
    "def compile_random_portfolio(p_stocks):\n",
    "    print(f\"\\n<Quandl API> Stock Data: {p_stocks[0]}\")\n",
    "    sim_portfolio = closing_prices(p_stocks[0])\n",
    "    for stock in p_stocks[1:]:\n",
    "        print(f\"<Quandl API> Stock Data: {stock}\")\n",
    "        add_stock = closing_prices(stock)\n",
    "        sim_portfolio = pd.merge(sim_portfolio, add_stock, on=\"Date\", how=\"inner\")\n",
    "        del add_stock\n",
    "    \n",
    "    benchmark = pd.read_csv(\"S&P500.csv\")[[\"Date\", \"Close\"]]\n",
    "    benchmark[\"Date\"] = pd.to_datetime(benchmark[\"Date\"])\n",
    "    benchmark = benchmark.rename(columns={\"Close\":\"SP500\"})\n",
    "    \n",
    "    output_portfolio = pd.merge(sim_portfolio, benchmark, on=\"Date\", how=\"inner\")\n",
    "    \n",
    "    print(\"\\n[Output] Portfolio Closing Prices\\n\", output_portfolio.head())\n",
    "    return output_portfolio.set_index(\"Date\")"
   ]
  },
  {
   "cell_type": "code",
   "execution_count": null,
   "metadata": {},
   "outputs": [],
   "source": [
    "def generate_ml_training_data(sim_portfolio):    \n",
    "    p_stocks = list(sim_portfolio.columns)\n",
    "    p_stocks.remove(\"SP500\")\n",
    "    benchmark_portfolio = sim_portfolio[\"SP500\"]\n",
    "    stock_portfolio = sim_portfolio[p_stocks]\n",
    "    \n",
    "    print('\\n[Training] Stock Portfolio\\n', stock_portfolio.head())\n",
    "\n",
    "    weights = np.random.random(len(p_stocks))\n",
    "    weights /= np.sum(weights)\n",
    "    \n",
    "    p_allocation = [(pos[0],round(pos[1], 4)) for pos in zip(p_stocks, weights)]\n",
    "    print(\"\\n[Portfolio] Asset Allocation:\\n\", p_allocation)\n",
    "    \n",
    "    pct_returns = round(stock_portfolio.pct_change().iloc[1:], 4)\n",
    "    pct_returns[\"RTNp\"] = np.sum(pct_returns, axis=1)\n",
    "    print(\"\\n[Portfolio] Daily Returns:\")\n",
    "    print(pct_returns.head())\n",
    "    \n",
    "    # Calculate Portfolio Statistics (Return, Variance, Sharpe)\n",
    "    p_rtn = exp_portfolio_return(stock_portfolio, weights)\n",
    "    p_var = exp_portfolio_variance(stock_portfolio, weights)\n",
    "    sp500_rtn = benchmark_portfolio.mean() * 250\n",
    "    sp500_var = benchmark_portfolio.var() * 250\n",
    "    \n",
    "    mod_sharpe = mod_sharpe_ratio(p_rtn, p_var)\n",
    "    \n",
    "    unweighted_perform = round((stock_portfolio.iloc[-1]/stock_portfolio.iloc[0]) -1, 4)\n",
    "    print(\"\\n[Portfolio] Unweighted Returns\")\n",
    "    print(unweighted_perform.head())\n",
    "    \n",
    "    weighted_perform = round(np.sum(unweighted_perform[p_stocks] * weights), 4)\n",
    "    print(f\"\\n[Portfolio] Weighted Return: {weighted_perform}\")\n",
    "    \n",
    "    benchmark_perform = round((benchmark_portfolio[-1]/benchmark_portfolio[0])-1, 4)\n",
    "    \n",
    "    # Portfolio Regression Beta Calculation\n",
    "    p_beta = \"N/A\"\n",
    "    print(f\"\\n[Benchmark | S&P500] Perfomance: {benchmark_perform}\")\n",
    "    \n",
    "    pfolio_radj_perform = ((weighted_perform/p_var) > (benchmark_perform/sp500_var))\n",
    "    pfolio_stats = {\n",
    "        \"CTp\":len(p_stocks),\n",
    "        \"RTNp\":round(p_rtn, 4),\n",
    "        \"VARp\":round(p_var, 4),\n",
    "        \"SHRp\":round(mod_sharpe, 4),\n",
    "        \"BETAp\":p_beta,\n",
    "        \"SP500\":round(benchmark_perform, 4),\n",
    "        \"PvSP\":pfolio_radj_perform\n",
    "    }\n",
    "    \n",
    "    return pfolio_stats"
   ]
  },
  {
   "cell_type": "code",
   "execution_count": null,
   "metadata": {},
   "outputs": [],
   "source": [
    "# Initialize Empty List - Save Simulate Ml Training Data \n",
    "ml_training_portfolios = []"
   ]
  },
  {
   "cell_type": "code",
   "execution_count": null,
   "metadata": {},
   "outputs": [],
   "source": [
    "# Generate & Store ML Training Portfolios (Loop)\n",
    "for i in range(25):\n",
    "    mc_pfolio_random = generate_random_portfolio()\n",
    "    mc_pfolio_compile = compile_random_portfolio(mc_pfolio_random)\n",
    "    mc_pfolio_stats = generate_ml_training_data(mc_pfolio_compile)    \n",
    "    ml_training_portfolios.append(mc_pfolio_stats)    \n",
    "    \n",
    "    print(f\"\\nRandom Portfolio Generation: {i}\\n\")\n",
    "    print(mc_pfolio_stats)"
   ]
  },
  {
   "cell_type": "code",
   "execution_count": null,
   "metadata": {},
   "outputs": [],
   "source": [
    "# [View] Total Number of Training Portfolio in ml_training_portfolios\n",
    "number_of_training_portfolios = len(ml_training_portfolios)\n",
    "print(\"# of Portfolios:\", number_of_training_portfolios)"
   ]
  },
  {
   "cell_type": "code",
   "execution_count": null,
   "metadata": {},
   "outputs": [],
   "source": [
    "# [View] ML Training Portfolio Stats -- [Output] Dictionary\n",
    "ml_training_portfolios[:5]"
   ]
  },
  {
   "cell_type": "code",
   "execution_count": null,
   "metadata": {
    "scrolled": false
   },
   "outputs": [],
   "source": [
    "# Convert & View ML Training Portfolios as DataFrame\n",
    "df_headers = \"CTp,SHRp,BETAp,VARp,RTNp,SP500,PvSP\".split(\",\")\n",
    "df_portfolio = pd.DataFrame(ml_training_portfolios)[df_headers]\n",
    "df_portfolio.head()"
   ]
  },
  {
   "cell_type": "code",
   "execution_count": null,
   "metadata": {},
   "outputs": [],
   "source": [
    "df_portfolio[\"PvSP\"].value_counts()"
   ]
  },
  {
   "cell_type": "code",
   "execution_count": null,
   "metadata": {},
   "outputs": [],
   "source": [
    "# Save ML Training Data to Excel (.xlsx) Format\n",
    "df_portfolio.to_excel(\"Portfolio_ML_Training_Data.xlsx\", index=False)"
   ]
  },
  {
   "cell_type": "code",
   "execution_count": null,
   "metadata": {},
   "outputs": [],
   "source": [
    "errors_df = df_portfolio.loc[df_portfolio[\"SP500\"] < .3857]"
   ]
  },
  {
   "cell_type": "code",
   "execution_count": null,
   "metadata": {},
   "outputs": [],
   "source": [
    "errors_df.count()"
   ]
  },
  {
   "cell_type": "code",
   "execution_count": null,
   "metadata": {},
   "outputs": [],
   "source": [
    "errors_df.head()"
   ]
  },
  {
   "cell_type": "code",
   "execution_count": null,
   "metadata": {},
   "outputs": [],
   "source": []
  },
  {
   "cell_type": "code",
   "execution_count": null,
   "metadata": {},
   "outputs": [],
   "source": []
  },
  {
   "cell_type": "code",
   "execution_count": null,
   "metadata": {},
   "outputs": [],
   "source": []
  }
 ],
 "metadata": {
  "kernelspec": {
   "display_name": "Python 3",
   "language": "python",
   "name": "python3"
  },
  "language_info": {
   "codemirror_mode": {
    "name": "ipython",
    "version": 3
   },
   "file_extension": ".py",
   "mimetype": "text/x-python",
   "name": "python",
   "nbconvert_exporter": "python",
   "pygments_lexer": "ipython3",
   "version": "3.6.7"
  }
 },
 "nbformat": 4,
 "nbformat_minor": 2
}
