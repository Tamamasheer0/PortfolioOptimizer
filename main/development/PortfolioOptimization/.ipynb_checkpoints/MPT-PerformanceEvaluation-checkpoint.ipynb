{
 "cells": [
  {
   "cell_type": "code",
   "execution_count": 1,
   "metadata": {},
   "outputs": [],
   "source": [
    "%matplotlib inline\n",
    "\n",
    "import matplotlib.pyplot as plt\n",
    "import datetime as dt\n",
    "import pandas as pd\n",
    "import numpy as np\n",
    "\n",
    "from apidata import (\n",
    "    closing_prices,\n",
    "    optimize_portfolio,\n",
    "    backtest_portfolio,\n",
    "    evaluate_portfolio,\n",
    ")"
   ]
  },
  {
   "cell_type": "code",
   "execution_count": 2,
   "metadata": {},
   "outputs": [],
   "source": [
    "# 1: <Good Performance> Select Stocks For Inclusion in Portfolio\n",
    "selected_stocks = [\"FCX\",\"GOOG\",\"F\"]"
   ]
  },
  {
   "cell_type": "code",
   "execution_count": 3,
   "metadata": {},
   "outputs": [
    {
     "name": "stdout",
     "output_type": "stream",
     "text": [
      "[0] Retrieving Stock Data: FCX\n",
      "[1] Retrieving Stock Data: GOOG\n",
      "[2] Retrieving Stock Data: F\n",
      "\n",
      "Optimizing Portfolio Weights >> Simulations: x 5000\n",
      "\n",
      "Optimized Portfolio Weights:\n",
      "F           0.0135\n",
      "FCX         0.0011\n",
      "GOOG        0.9854\n",
      "Return      0.1426\n",
      "Sharpe      0.2004\n",
      "Variance    0.2226\n",
      "Name: 3628, dtype: float64\n"
     ]
    }
   ],
   "source": [
    "# 2: Optimize Portfolio Around List of Provided Stocks\n",
    "portfolio = optimize_portfolio(selected_stocks)"
   ]
  },
  {
   "cell_type": "code",
   "execution_count": 4,
   "metadata": {},
   "outputs": [
    {
     "name": "stdout",
     "output_type": "stream",
     "text": [
      "\n",
      "Ticker: F \tPortfolio Weight: 0.0135\n",
      "                   F\n",
      "Date                \n",
      "2014-01-03  0.000061\n",
      "2014-01-06  0.000061\n",
      "2014-01-07 -0.000174\n",
      "2014-01-08  0.000140\n",
      "2014-01-09  0.000258\n",
      "\n",
      "Ticker: FCX \tPortfolio Weight: 0.0011\n",
      "                 FCX\n",
      "Date                \n",
      "2014-01-03 -0.000009\n",
      "2014-01-06 -0.000009\n",
      "2014-01-07 -0.000011\n",
      "2014-01-08 -0.000014\n",
      "2014-01-09 -0.000015\n",
      "\n",
      "Ticker: GOOG \tPortfolio Weight: 0.9854\n",
      "                GOOG\n",
      "Date                \n",
      "2014-03-28  0.002696\n",
      "2014-03-31 -0.005329\n",
      "2014-04-01  0.017865\n",
      "2014-04-02 -0.000278\n",
      "2014-04-03  0.004750\n",
      "\n",
      "[Historic] Portfolio Performance:\n",
      "                    F       FCX      GOOG      RTNp\n",
      "Date                                              \n",
      "2014-03-28  0.000176  0.000015  0.002696  0.002887\n",
      "2014-03-31  0.000130  0.000007 -0.005329 -0.005191\n",
      "2014-04-01  0.000609 -0.000005  0.017865  0.018469\n",
      "2014-04-02  0.000115  0.000013 -0.000278 -0.000149\n",
      "2014-04-03 -0.000058  0.000003  0.004750  0.004696\n"
     ]
    }
   ],
   "source": [
    "# 3: Back-Test Performance of Optimized Portfolio Using Historical Data\n",
    "performance = backtest_portfolio(portfolio)"
   ]
  },
  {
   "cell_type": "code",
   "execution_count": 5,
   "metadata": {},
   "outputs": [
    {
     "name": "stdout",
     "output_type": "stream",
     "text": [
      "                   F       FCX      GOOG      RTNp      RTNm    Excess  \\\n",
      "Date                                                                     \n",
      "2014-03-28  0.000176  0.000015  0.002696  0.002887 -0.026811  0.029698   \n",
      "2014-03-31  0.000130  0.000007 -0.005329 -0.005191  0.019605 -0.024796   \n",
      "2014-04-01  0.000609 -0.000005  0.017865  0.018469 -0.008794  0.027263   \n",
      "2014-04-02  0.000115  0.000013 -0.000278 -0.000149  0.001535 -0.001684   \n",
      "2014-04-03 -0.000058  0.000003  0.004750  0.004696 -0.007698  0.012394   \n",
      "\n",
      "                 Compare  \n",
      "Date                      \n",
      "2014-03-28    Outperform  \n",
      "2014-03-31  Underperform  \n",
      "2014-04-01    Outperform  \n",
      "2014-04-02  Underperform  \n",
      "2014-04-03    Outperform  \n"
     ]
    }
   ],
   "source": [
    "# 4: Evaluate Portfolio Historic Performance Against Benchmark\n",
    "pfolio_eval = evaluate_portfolio(performance)"
   ]
  },
  {
   "cell_type": "code",
   "execution_count": 12,
   "metadata": {},
   "outputs": [
    {
     "data": {
      "text/plain": [
       "Date\n",
       "2014-03-28   -0.026811\n",
       "2014-03-31    0.019605\n",
       "2014-04-01   -0.008794\n",
       "2014-04-02    0.001535\n",
       "2014-04-03   -0.007698\n",
       "Name: RTNm, dtype: float64"
      ]
     },
     "execution_count": 12,
     "metadata": {},
     "output_type": "execute_result"
    }
   ],
   "source": [
    "pfolio_eval[\"RTNm\"].head()"
   ]
  },
  {
   "cell_type": "code",
   "execution_count": 17,
   "metadata": {
    "scrolled": true
   },
   "outputs": [
    {
     "data": {
      "text/plain": [
       "0.07416049405903608"
      ]
     },
     "execution_count": 17,
     "metadata": {},
     "output_type": "execute_result"
    }
   ],
   "source": [
    "pfolio_eval[\"RTNm\"].var() * 250"
   ]
  },
  {
   "cell_type": "code",
   "execution_count": 13,
   "metadata": {},
   "outputs": [
    {
     "data": {
      "text/plain": [
       "0.07238257263761536"
      ]
     },
     "execution_count": 13,
     "metadata": {},
     "output_type": "execute_result"
    }
   ],
   "source": [
    "pfolio_eval[\"RTNm\"].mean() * 250"
   ]
  },
  {
   "cell_type": "code",
   "execution_count": null,
   "metadata": {},
   "outputs": [],
   "source": [
    "# [View] Portfolio Evaluation Summary\n",
    "pfolio_eval.head()"
   ]
  },
  {
   "cell_type": "code",
   "execution_count": null,
   "metadata": {
    "scrolled": true
   },
   "outputs": [],
   "source": [
    "# [View] Evaluation Sample Size\n",
    "pfolio_eval.count()"
   ]
  },
  {
   "cell_type": "code",
   "execution_count": null,
   "metadata": {
    "scrolled": true
   },
   "outputs": [],
   "source": [
    "# [View] Portfolio/Market Performance Comparison Summary\n",
    "round(pfolio_eval[\"Compare\"].value_counts()/pfolio_eval[\"Compare\"].count(), 4)"
   ]
  },
  {
   "cell_type": "code",
   "execution_count": null,
   "metadata": {},
   "outputs": [],
   "source": [
    "pfolio_eval[\"RTNp\"].head(10)"
   ]
  },
  {
   "cell_type": "code",
   "execution_count": null,
   "metadata": {},
   "outputs": [],
   "source": [
    "xaxis_dates = pfolio_eval.reset_index()[\"Date\"]\n",
    "xmin = xaxis_dates.iloc[0]\n",
    "xmax = xaxis_dates.iloc[-1]"
   ]
  },
  {
   "cell_type": "code",
   "execution_count": null,
   "metadata": {},
   "outputs": [],
   "source": [
    "# [View] Volatility of Portfolio Returns\n",
    "pfolio_eval[\"RTNp\"].plot(alpha=.75)\n",
    "plt.title(\"[Optimized] Volatility of Returns\")\n",
    "plt.xlabel(\"Dates\")\n",
    "plt.ylabel(\"Daily Return\")\n",
    "plt.ylim(-.08, .08)\n",
    "plt.grid(axis=\"y\", linestyle=\"dashed\")\n",
    "plt.hlines(.02, xmin, xmax, linestyle=\"dashed\", colors=\"red\")\n",
    "plt.hlines(-.02, xmin, xmax, linestyle=\"dashed\", colors=\"red\")"
   ]
  },
  {
   "cell_type": "code",
   "execution_count": null,
   "metadata": {},
   "outputs": [],
   "source": [
    "# [View] Volatility of Market Returns\n",
    "pfolio_eval[\"RTNm\"].plot(alpha=.75)\n",
    "plt.title(\"[S&P500] Volatility of Returns\")\n",
    "plt.xlabel(\"Date\")\n",
    "plt.ylabel(\"Daily Returns\")\n",
    "plt.ylim(-.08, .08)\n",
    "plt.grid(axis=\"y\", linestyle=\"dashed\")\n",
    "plt.hlines(.02, xmin, xmax, linestyle=\"dashed\", colors=\"red\")\n",
    "plt.hlines(-.02, xmin, xmax, linestyle=\"dashed\", colors=\"red\")"
   ]
  },
  {
   "cell_type": "code",
   "execution_count": null,
   "metadata": {},
   "outputs": [],
   "source": [
    "# Calculate Portfolio Beta -- Show The Correlation of Returns\n",
    "# Explanation as to Why On an Absolute Basis Portfolio Underpeforms Only Slightly\n"
   ]
  },
  {
   "cell_type": "code",
   "execution_count": null,
   "metadata": {},
   "outputs": [],
   "source": [
    "rtn_df = pfolio_eval[\"RTNp\"].apply(lambda x: x + 1).reset_index()"
   ]
  },
  {
   "cell_type": "code",
   "execution_count": null,
   "metadata": {},
   "outputs": [],
   "source": [
    "rtn_df.head()"
   ]
  },
  {
   "cell_type": "code",
   "execution_count": null,
   "metadata": {},
   "outputs": [],
   "source": [
    "rtn_df.iloc[0][\"Date\"].date()"
   ]
  },
  {
   "cell_type": "code",
   "execution_count": null,
   "metadata": {},
   "outputs": [],
   "source": [
    "mkt_val = [(row[1][0].date(), row[1][1]) for row in rtn_df.iterrows()]"
   ]
  },
  {
   "cell_type": "code",
   "execution_count": null,
   "metadata": {},
   "outputs": [],
   "source": [
    "mkt_val[:10]"
   ]
  },
  {
   "cell_type": "code",
   "execution_count": null,
   "metadata": {},
   "outputs": [],
   "source": [
    "pfolio_eval.describe()"
   ]
  },
  {
   "cell_type": "code",
   "execution_count": null,
   "metadata": {},
   "outputs": [],
   "source": []
  },
  {
   "cell_type": "code",
   "execution_count": null,
   "metadata": {},
   "outputs": [],
   "source": []
  }
 ],
 "metadata": {
  "kernelspec": {
   "display_name": "Python 3",
   "language": "python",
   "name": "python3"
  },
  "language_info": {
   "codemirror_mode": {
    "name": "ipython",
    "version": 3
   },
   "file_extension": ".py",
   "mimetype": "text/x-python",
   "name": "python",
   "nbconvert_exporter": "python",
   "pygments_lexer": "ipython3",
   "version": "3.6.7"
  }
 },
 "nbformat": 4,
 "nbformat_minor": 2
}
